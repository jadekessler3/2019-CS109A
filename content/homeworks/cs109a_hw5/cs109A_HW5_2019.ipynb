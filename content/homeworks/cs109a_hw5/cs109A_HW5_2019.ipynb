{
 "cells": [
  {
   "cell_type": "markdown",
   "metadata": {},
   "source": [
    "\n",
    "# <img style=\"float: left; padding-right: 10px; width: 45px\" src=\"https://raw.githubusercontent.com/Harvard-IACS/2018-CS109A/master/content/styles/iacs.png\"> CS109A Introduction to Data Science\n",
    "\n",
    "## Homework 5: $k$-NN Classification, ROC, and PCA\n",
    "\n",
    "**Harvard University**<br/>\n",
    "**Fall 2019**<br/>\n",
    "**Instructors**: Pavlos Protopapas, Kevin Rader, and Chris Tanner\n",
    "\n",
    "<hr style=\"height:2pt\">\n",
    "\n"
   ]
  },
  {
   "cell_type": "code",
   "execution_count": 42,
   "metadata": {},
   "outputs": [
    {
     "data": {
      "text/html": [
       "<style>\n",
       "blockquote { background: #AEDE94; }\n",
       "h1 { \n",
       "    padding-top: 25px;\n",
       "    padding-bottom: 25px;\n",
       "    text-align: left; \n",
       "    padding-left: 10px;\n",
       "    background-color: #DDDDDD; \n",
       "    color: black;\n",
       "}\n",
       "h2 { \n",
       "    padding-top: 10px;\n",
       "    padding-bottom: 10px;\n",
       "    text-align: left; \n",
       "    padding-left: 5px;\n",
       "    background-color: #EEEEEE; \n",
       "    color: black;\n",
       "}\n",
       "\n",
       "div.exercise {\n",
       "\tbackground-color: #ffcccc;\n",
       "\tborder-color: #E9967A; \t\n",
       "\tborder-left: 5px solid #800080; \n",
       "\tpadding: 0.5em;\n",
       "}\n",
       "\n",
       "span.sub-q {\n",
       "\tfont-weight: bold;\n",
       "}\n",
       "div.theme {\n",
       "\tbackground-color: #DDDDDD;\n",
       "\tborder-color: #E9967A; \t\n",
       "\tborder-left: 5px solid #800080; \n",
       "\tpadding: 0.5em;\n",
       "\tfont-size: 18pt;\n",
       "}\n",
       "div.gc { \n",
       "\tbackground-color: #AEDE94;\n",
       "\tborder-color: #E9967A; \t \n",
       "\tborder-left: 5px solid #800080; \n",
       "\tpadding: 0.5em;\n",
       "\tfont-size: 12pt;\n",
       "}\n",
       "p.q1 { \n",
       "    padding-top: 5px;\n",
       "    padding-bottom: 5px;\n",
       "    text-align: left; \n",
       "    padding-left: 5px;\n",
       "    background-color: #EEEEEE; \n",
       "    color: black;\n",
       "}\n",
       "header {\n",
       "   padding-top: 35px;\n",
       "    padding-bottom: 35px;\n",
       "    text-align: left; \n",
       "    padding-left: 10px;\n",
       "    background-color: #DDDDDD; \n",
       "    color: black;\n",
       "}\n",
       "</style>\n",
       "\n"
      ],
      "text/plain": [
       "<IPython.core.display.HTML object>"
      ]
     },
     "execution_count": 42,
     "metadata": {},
     "output_type": "execute_result"
    }
   ],
   "source": [
    "#RUN THIS CELL \n",
    "import requests\n",
    "from IPython.core.display import HTML\n",
    "styles = requests.get(\"https://raw.githubusercontent.com/Harvard-IACS/2018-CS109A/master/content/styles/cs109.css\").text\n",
    "HTML(styles)"
   ]
  },
  {
   "cell_type": "markdown",
   "metadata": {},
   "source": [
    "### INSTRUCTIONS\n",
    "\n",
    "- To submit your assignment follow the instructions given in Canvas.\n",
    "- Restart the kernel and run the whole notebook again before you submit. \n",
    "- As much as possible, try and stick to the hints and functions we import at the top of the homework, as those are the ideas and tools the class supports and is aiming to teach. And if a problem specifies a particular library you're required to use that library, and possibly others from the import list.\n",
    "- Please use .head() when viewing data. Do not submit a notebook that is excessively long because output was not suppressed or otherwise limited."
   ]
  },
  {
   "cell_type": "code",
   "execution_count": 43,
   "metadata": {},
   "outputs": [],
   "source": [
    "import numpy as np\n",
    "import pandas as pd\n",
    "from scipy.stats import ttest_ind\n",
    "pd.set_option('display.max_columns', 25)\n",
    "\n",
    "from sklearn.linear_model import LinearRegression\n",
    "from sklearn.linear_model import LogisticRegression\n",
    "from sklearn.linear_model import LogisticRegressionCV\n",
    "from sklearn.linear_model import LassoCV\n",
    "\n",
    "from sklearn.neighbors import KNeighborsClassifier\n",
    "from sklearn.model_selection import cross_val_score\n",
    "from sklearn.metrics import accuracy_score\n",
    "from sklearn.model_selection import KFold\n",
    "from sklearn.preprocessing import MinMaxScaler\n",
    "from sklearn.model_selection import train_test_split\n",
    "from sklearn.decomposition import PCA\n",
    "from sklearn import metrics\n",
    "\n",
    "import matplotlib\n",
    "import matplotlib.pyplot as plt\n",
    "%matplotlib inline\n",
    "\n",
    "import statsmodels.api as sm\n",
    "from statsmodels.api import OLS\n",
    "\n",
    "import seaborn as sns\n",
    "sns.set()\n",
    "\n",
    "from sklearn.preprocessing import StandardScaler"
   ]
  },
  {
   "cell_type": "markdown",
   "metadata": {},
   "source": [
    "\n",
    "## Continuing Cancer Classification from Gene Expressions\n",
    "\n",
    "In this problem, we will continue to work with the 2-class (ALL vs. AML) cancer classification problem from homework 4. The dataset is provided in the file `data/hw4_enhance.csv` and is the same as the previous HW.  Recall: **0 indicates the ALL** class and **1 indicates the AML** class within `Cancer_type`, and columns 2-7130 contain expression levels of 7129 genes recorded from each tissue sample. \n",
    "\n",
    "In the following questions, we will handle the high dimensionality of this problem directly by applying Principal Component Analysis (PCA), and then use the resulting PCA-transformed in logistic regression and $k$-NN modeling."
   ]
  },
  {
   "cell_type": "markdown",
   "metadata": {},
   "source": [
    "<div class='exercise'><b> Question 1 [20 pts]: Baseline Modeling </b></div>\n",
    "\n",
    "First step is to split the observations into an approximate 80-20 train-test split.  Below is the same code from HW4 to do this for you (we again want to make sure everyone has the same splits). Use the training data set to answer the following questions:\n"
   ]
  },
  {
   "cell_type": "markdown",
   "metadata": {},
   "source": [
    "**First step is to split the observations into an approximate 80-20 train-test split. Below is some code to do this for you (we want to make sure everyone has the same splits). `Cancer_type` is again our target column.**"
   ]
  },
  {
   "cell_type": "code",
   "execution_count": 44,
   "metadata": {},
   "outputs": [],
   "source": [
    "np.random.seed(10)\n",
    "df = pd.read_csv('data/hw4_enhance.csv', index_col=0)\n",
    "\n",
    "X_train, X_test, y_train, y_test =train_test_split(df.loc[:, df.columns != 'Cancer_type'], \n",
    "                                                         df.Cancer_type, test_size=0.2, \n",
    "                                                         random_state = 109, \n",
    "                                                         stratify = df.Cancer_type)"
   ]
  },
  {
   "cell_type": "markdown",
   "metadata": {},
   "source": [
    "**1.1** Begin by normalizing all predictors just like you did in HW4.  Use these versions of the predictors throughout this assignment.\n",
    "\n",
    "**1.2** Fit an 'unregularized' multiple logistic regression model (set C=100000) with all the gene predictors from the data set (you did this in HW4).  Report the misclassification rate on both the train and test sets.\n",
    "\n",
    "**1.3** Use regularization to improve the predictions from the multiple logistic regression model. Specifically, use LASSO-like regularization and cross-validation to train the model on the training set (you did this in HW4).  Report the classification accuracy on both the train and test sets.\n",
    "\n",
    "**1.4** Use 5-fold cross-validation to select $k$ for a $k$-NN classification model based on the full predictor set.  Choose between `k = 1,2,5,10,20,50,100,200,500`. \n",
    "\n",
    "**1.5** Provide the confusion matrix for all 3 models above and report the false positive and false negative rates (all in the test set).  Briefly interpret what you notice.\n"
   ]
  },
  {
   "cell_type": "markdown",
   "metadata": {},
   "source": [
    "<hr>\n",
    "\n",
    "### Solutions"
   ]
  },
  {
   "cell_type": "markdown",
   "metadata": {},
   "source": [
    "**1.1 Begin by normalizing all predictors just like you did in HW4.  Use these versions of the predictors throughout this assignment.**"
   ]
  },
  {
   "cell_type": "code",
   "execution_count": 45,
   "metadata": {},
   "outputs": [],
   "source": [
    "scaler = MinMaxScaler().fit(X_train.values)\n",
    "X_train = pd.DataFrame(scaler.transform(X_train.values), columns=X_train.columns, index=X_train.index)\n",
    "X_test = pd.DataFrame(scaler.transform(X_test.values), columns=X_test.columns, index=X_test.index)"
   ]
  },
  {
   "cell_type": "markdown",
   "metadata": {},
   "source": [
    "**1.2 Fit an 'unregularized' multiple logistic regression model (set C=100000) with all the gene predictors from the data set (you did this in HW4).  Report the misclassification rate on both the train and test sets.**"
   ]
  },
  {
   "cell_type": "code",
   "execution_count": 46,
   "metadata": {},
   "outputs": [
    {
     "name": "stdout",
     "output_type": "stream",
     "text": [
      "Unregularized\n",
      "The misclassifcation rate for the training set is: 0.0%\n",
      "The misclassifcation rate for the testing set is: 23.2%\n"
     ]
    }
   ],
   "source": [
    "log_model = LogisticRegression(C=100000, fit_intercept=True, solver='lbfgs', max_iter=1000)\n",
    "log_model.fit(X_train, y_train)\n",
    "\n",
    "def print_error_rate(X, y, set, model):\n",
    "    print('The misclassifcation rate for the {} set is: {:.1%}'.format(set, 1 - model.score(X,y)))\n",
    "\n",
    "print('Unregularized')\n",
    "print_error_rate(X_train, y_train, 'training', log_model)\n",
    "print_error_rate(X_test, y_test, 'testing', log_model)\n"
   ]
  },
  {
   "cell_type": "markdown",
   "metadata": {},
   "source": [
    "**1.3 Use regularization to improve the predictions from the multiple logistic regression model. Specifically, use LASSO-like regularization and cross-validation to train the model on the training set (you did this in HW4).  eport the misclassification rate on both the train and test sets.**"
   ]
  },
  {
   "cell_type": "code",
   "execution_count": 47,
   "metadata": {},
   "outputs": [
    {
     "name": "stdout",
     "output_type": "stream",
     "text": [
      "Regularized\n",
      "The misclassifcation rate for the training set is: 9.0%\n",
      "The misclassifcation rate for the testing set is: 13.9%\n"
     ]
    }
   ],
   "source": [
    "lasso_log_model = LogisticRegressionCV(penalty='l1', solver='liblinear', cv=5)\n",
    "lasso_log_model.fit(X_train, y_train)\n",
    "\n",
    "print('Regularized')\n",
    "print_error_rate(X_train, y_train, 'training', lasso_log_model)\n",
    "print_error_rate(X_test, y_test, 'testing', lasso_log_model)\n"
   ]
  },
  {
   "cell_type": "markdown",
   "metadata": {},
   "source": [
    "**1.4 Use 5-fold cross-validation to select $k$ for a $k$-NN classification model based on the full predictor set.  Choose between `ks = [1,2,3,4,5,7,9,10,15,25]`.  Report your chosen $k$, and report the misclassification rate on both the train and test sets for the model using your chosen $k$.**"
   ]
  },
  {
   "cell_type": "code",
   "execution_count": 48,
   "metadata": {},
   "outputs": [
    {
     "name": "stdout",
     "output_type": "stream",
     "text": [
      "KNeighborsClassifier(k=7)\n",
      "The misclassifcation rate for the train set is: 9.8%\n",
      "The misclassifcation rate for the test set is: 26.5%\n"
     ]
    }
   ],
   "source": [
    "# Define Kfold object and Ks array\n",
    "kf = KFold(n_splits=5)\n",
    "ks = [1,2,3,4,5,7,9,10,15,25]\n",
    "\n",
    "# Save average validation scores from each fold (will take max later)\n",
    "k_scores = []\n",
    "\n",
    "# Loop through all Ks\n",
    "for k in ks:\n",
    "    # Save validation scores from each fold (will average later)\n",
    "    validation_scores = []\n",
    "    for train_idx, test_idx in kf.split(X_train):\n",
    "        # Train model with k-neighbors on train set\n",
    "        model = KNeighborsClassifier(n_neighbors=k)\n",
    "        model.fit(X_train.iloc[train_idx], y_train.iloc[train_idx])\n",
    "        # Append score on validation set\n",
    "        validation_scores.append(model.score(X_train.iloc[test_idx], y_train.iloc[test_idx]))\n",
    "    # Save the average score from the validation sets (will take max later)\n",
    "    k_scores.append(np.mean(validation_scores))\n",
    "\n",
    "# Get the k with highest average score on validation sets\n",
    "best_k = ks[np.argmax(k_scores)] #7\n",
    "\n",
    "# Print results with new classifiers using best_k neighbors\n",
    "print('KNeighborsClassifier(k=7)')\n",
    "print_error_rate( X_train, y_train, 'train', KNeighborsClassifier(n_neighbors=best_k).fit(X_train, y_train) )\n",
    "print_error_rate( X_test, y_test, 'test', KNeighborsClassifier(n_neighbors=best_k).fit(X_test, y_test) )\n"
   ]
  },
  {
   "cell_type": "markdown",
   "metadata": {},
   "source": [
    "**1.5 Provide the confusion matrix for all 3 models above and report the false positive and false negative rates (all in the test set).  Briefly interpret what you notice.**"
   ]
  },
  {
   "cell_type": "code",
   "execution_count": 49,
   "metadata": {},
   "outputs": [
    {
     "name": "stdout",
     "output_type": "stream",
     "text": [
      "kNN false positive rate: 6.6%\n",
      "kNN false negative rate: 7.3%\n",
      "LassoCV false positive rate: 6.6%\n",
      "LassoCV false negative rate: 7.3%\n",
      "Unregularized false positive rate: 8.6%\n",
      "Unregularized false negative rate: 14.6%\n"
     ]
    },
    {
     "data": {
      "image/png": "[encoded data removed]",
      "text/plain": [
       "<Figure size 432x288 with 6 Axes>"
      ]
     },
     "metadata": {},
     "output_type": "display_data"
    }
   ],
   "source": [
    "fig, axes = plt.subplots(1,3)\n",
    "def print_confusion_matrix(model, ax, title):\n",
    "    model.fit(X_train, y_train)\n",
    "    pred = model.predict(X_test)\n",
    "    cm = metrics.confusion_matrix(y_test, pred)\n",
    "    # https://scikit-learn.org/stable/modules/generated/sklearn.metrics.confusion_matrix.html#sklearn.metrics.confusion_matrix\n",
    "    tn, fp, fn, tp = cm.ravel()\n",
    "    test_len = len(y_test)\n",
    "    # Assuming positive means AML\n",
    "    print('{} false positive rate: {:.1%}'.format(title, fp/test_len))\n",
    "    print('{} false negative rate: {:.1%}'.format(title, fn/test_len))\n",
    "    ax.set_title(title)\n",
    "    # Create heatmap\n",
    "    sns.heatmap(\n",
    "        cm,\n",
    "        ax=ax,\n",
    "        xticklabels=['ALL', 'AML'],\n",
    "        yticklabels=['ALL', 'AML'],\n",
    "        annot=True,\n",
    "        fmt=\"d\",\n",
    "    )\n",
    "\n",
    "# Set axes\n",
    "print_confusion_matrix(\n",
    "    KNeighborsClassifier(n_neighbors=best_k),\n",
    "    axes[0],\n",
    "    'kNN'\n",
    ")\n",
    "print_confusion_matrix(\n",
    "    LogisticRegressionCV(penalty='l1', solver='liblinear', cv=5),\n",
    "    axes[1],\n",
    "    'LassoCV'\n",
    ")\n",
    "print_confusion_matrix(\n",
    "    LogisticRegression(C=100000, fit_intercept=True, solver='lbfgs', max_iter=1000),\n",
    "    axes[2],\n",
    "    'Unregularized'\n",
    ")\n",
    "\n",
    "# Note: SNS labels will display incorrectly when run in Jupyter. For best visualization, run in Terminal.\n",
    "plt.show()\n"
   ]
  },
  {
   "cell_type": "markdown",
   "metadata": {},
   "source": [
    "As we can see with the results below, the unregularized model yields the highest false positive and false negative rates. However, there is virtually no difference between the kNN and the LassoCV models.\n"
   ]
  },
  {
   "cell_type": "markdown",
   "metadata": {},
   "source": [
    "<div class='exercise'><b> Question 2 [20 pts]: Performing Principal Components Analysis </b></div>"
   ]
  },
  {
   "cell_type": "markdown",
   "metadata": {},
   "source": [
    "**2.1** Create the full PCA decomposition of `X_train` and apply the transformation to both `X_train` and `X_test`.  Report the shape of both of these.  What is the limiting factor for the maximum number of PCA components for this data set? \n",
    "\n",
    "**2.2** PCA is often solely used to help in visualizing high-dimensional problems.  Plot the scatterplot of the second PCA vector of train on the $Y$-axis and the first PCA vector of train on the $X$-axis (be sure to denote the classes via different color/markings).  In 2-3 sentences, explain why using the scatterplot of the top 2 PCA vectors is a useful approach to visualize a high dimensional classification problem.\n",
    "\n",
    "**2.3** Determine and report the variance explained in `X_train` based on the top 2 PCA vectors.  Determine and report how many PCA vectors are needed so that 90\\% of the variability in the predictors is explained, and create a plot to illustrate this result (Hint: look at cumulative explained variability vs. number of PCA components used).\n",
    "\n",
    "**2.4** Plot explained variability in the predictors on the $Y$-axis and the PCA component number on the $X$-axis. Select a reasonable value for the number of components that balances representativeness (of the predictors) with parsimony and justify your choice with 1-3 sentences."
   ]
  },
  {
   "cell_type": "markdown",
   "metadata": {},
   "source": [
    "<hr>\n",
    "\n",
    "### Solutions"
   ]
  },
  {
   "cell_type": "markdown",
   "metadata": {},
   "source": [
    "**2.1 Create the full PCA decomposition of X_train and apply the transformation to both X_train and X_test. Report the shape of both of these. What is the limiting factor for the maximum number of PCA components for this data set?**"
   ]
  },
  {
   "cell_type": "code",
   "execution_count": 50,
   "metadata": {},
   "outputs": [
    {
     "name": "stdout",
     "output_type": "stream",
     "text": [
      "Shape of X_train_scaled is: (601, 601)\n",
      "Shape of X_test_scaled is: (151, 601)\n"
     ]
    }
   ],
   "source": [
    "num_components = len(X_train.index)\n",
    "\n",
    "# scale the datasets \n",
    "# TODO check if needed since normalized already\n",
    "scale_transformer = StandardScaler(copy=True).fit(X_train)\n",
    "X_train_scaled = scale_transformer.transform(X_train)\n",
    "X_test_scaled = scale_transformer.transform(X_test)\n",
    "\n",
    "# reduce dimensions\n",
    "pca_transformer = PCA(num_components).fit(X_train_scaled)\n",
    "X_train_decomposed = pca_transformer.transform(X_train_scaled)\n",
    "X_test_decomposed =  pca_transformer.transform(X_test_scaled)\n",
    "\n",
    "#print shape\n",
    "print(\"Shape of X_train_scaled is: {}\".format(X_train_decomposed.shape))\n",
    "print(\"Shape of X_test_scaled is: {}\".format(X_test_decomposed.shape))\n"
   ]
  },
  {
   "cell_type": "markdown",
   "metadata": {},
   "source": [
    "When trying to create the full PCA decomposition ie. with 7129 predictors, we get a ValueError: \"ValueError: n_components=7129 must be between 0 and min(n_samples, n_features)=601 with svd_solver='full'\". This means that the number of components cannot exceed the number of observations in X_train. Hence, we used a maximum number of components equal to the number of rows ie. X_train.index.\n"
   ]
  },
  {
   "cell_type": "markdown",
   "metadata": {},
   "source": [
    "**2.2 PCA is often solely used to help in visualizing high-dimensional problems. Plot the scatterplot of the second PCA vector on the  𝑌 -axis and the first PCA vector on the  𝑋 -axis (be sure to denote the classes via different color/markings). In 2-3 sentences, explain why using the scatterplot of the top 2 PCA vectors is a useful approach to visualize a high dimensional classification problem.**"
   ]
  },
  {
   "cell_type": "code",
   "execution_count": 51,
   "metadata": {},
   "outputs": [
    {
     "data": {
      "image/png": "[encoded data removed]",
      "text/plain": [
       "<Figure size 432x288 with 1 Axes>"
      ]
     },
     "metadata": {},
     "output_type": "display_data"
    }
   ],
   "source": [
    "#set up colors and labels\n",
    "colors = ['r','c']\n",
    "label_text = [\"Class ALL\", \"Class AML\"]\n",
    "\n",
    "# loop over the ALL and AML classes\n",
    "for cur_class in [0,1]:\n",
    "    cur_df = X_train_decomposed[y_train==cur_class]\n",
    "    plt.scatter(cur_df[:,0], cur_df[:,1], c = colors[cur_class], label=label_text[cur_class])\n",
    "\n",
    "# plot results\n",
    "plt.title(\"Scatter plot of PCA vector 1 vs PCA vector 2\")\n",
    "plt.xlabel(\"PCA Vector 1\")\n",
    "plt.ylabel(\"PCA Vector 2\")\n",
    "plt.legend();\n"
   ]
  },
  {
   "cell_type": "markdown",
   "metadata": {},
   "source": [
    "Using a scatter plot of the top two PCA vectors is useful because it can be hard for the human eye to visualize and understand a multi-dimensional dataset. With many dimensions, the dataset can start looking like a complex data cloud and it can be hard to make sense of it. Plotting the first two PCA vectors will essentially create a snapshot of the dataset and explain most of the variance, thus helping the observer quickly make sense of the data before diving into more complex analysis. "
   ]
  },
  {
   "cell_type": "markdown",
   "metadata": {},
   "source": [
    "**2.3 Determine and report the variance explained in `X_train` based on the top 2 PCA vectors.  Determine and report how many PCA vectors are needed so that 90\\% of the variability in the predictors is explained, and create a plot to illustrate this result (Hint: look at cumulative explained variability vs. number of PCA components used).**"
   ]
  },
  {
   "cell_type": "code",
   "execution_count": 63,
   "metadata": {},
   "outputs": [
    {
     "name": "stdout",
     "output_type": "stream",
     "text": [
      "Variance explained by each PCA component in X_train (first two vectors): [0.06281546 0.04938133]\n",
      "Total variance explained by first two vectors: % 11.219678772764455\n",
      "The number of predictors needed to explain 90.06619693174368 % variance is: 232\n"
     ]
    },
    {
     "data": {
      "image/png": "[encoded data removed]",
      "text/plain": [
       "<Figure size 432x288 with 1 Axes>"
      ]
     },
     "metadata": {},
     "output_type": "display_data"
    }
   ],
   "source": [
    "#report variance epxlained in X_train based on top 2 PCA vectors\n",
    "var_explained = pca_transformer.explained_variance_ratio_[0:2]\n",
    "print(\"Variance explained by each PCA component in X_train (first two vectors):\", var_explained)\n",
    "print(\"Total variance explained by first two vectors: %\", np.sum(var_explained * 100))\n",
    "\n",
    "#report number of PCA vectors needed to explain 90% of variability\n",
    "var_explained_all = pca_transformer.explained_variance_ratio_\n",
    "\n",
    "def find_num_pred_90_var():\n",
    "    num_pred_needed_90 = 0\n",
    "    tot_variance_explained = 0\n",
    "    for var in var_explained_all:\n",
    "        if tot_variance_explained >= 0.9:\n",
    "            print(\"The number of predictors needed to explain {} % variance is: {}\".format(tot_variance_explained * 100, num_pred_needed_90))\n",
    "            break\n",
    "        else:\n",
    "            tot_variance_explained += var\n",
    "            num_pred_needed_90 += 1\n",
    "            \n",
    "find_num_pred_90_var()\n",
    "\n",
    "#plot\n",
    "x = np.linspace(0, 232, num = 232 ) \n",
    "\n",
    "total_to_date = 0\n",
    "cummulative_var_explained = []\n",
    "for var in var_explained_all[0:232]:\n",
    "    total_to_date += var *100\n",
    "    cummulative_var_explained.append(total_to_date)\n",
    "\n",
    "\n",
    "plt.plot(x, cummulative_var_explained[0:232])\n",
    "plt.plot(x[231], cummulative_var_explained[231], 'ro', label = \"x = 232, y = 90 %\")\n",
    "plt.title(\"% Variance explained by number of PCA vectors\")\n",
    "plt.xlabel(\"Number of PCA vectors\")\n",
    "plt.ylabel(\"% Variance explained by PCA predictors (cummulative)\")\n",
    "plt.legend()\n",
    "plt.show()\n"
   ]
  },
  {
   "cell_type": "markdown",
   "metadata": {},
   "source": [
    "**2.4 Plot explained variability in the predictors on the  𝑌 -axis and the PCA component number on the 𝑋 -axis. Select a reasonable value for the number of components that balances representativeness (of the predictors) with parsimony and ustify your choice in 1-3 sentences.**"
   ]
  },
  {
   "cell_type": "code",
   "execution_count": 71,
   "metadata": {},
   "outputs": [
    {
     "data": {
      "image/png": "[encoded data removed]",
      "text/plain": [
       "<Figure size 432x288 with 1 Axes>"
      ]
     },
     "metadata": {},
     "output_type": "display_data"
    },
    {
     "name": "stdout",
     "output_type": "stream",
     "text": [
      "Number of components picked is: 100. It explains 74.76102063663525 % variance\n"
     ]
    }
   ],
   "source": [
    "#plot\n",
    "x = np.linspace(0, 601, num = 601 ) \n",
    "    \n",
    "plt.plot(x, var_explained_all * 100)\n",
    "plt.title(\"% Variance explained by PCA vectors\")\n",
    "plt.xlabel(\"Number of PCA vectors\")\n",
    "plt.ylabel(\"% Variance explained by PCA predictors (non-cummulative)\")\n",
    "plt.show()\n",
    "\n",
    "#pick number of PCA components with right balance\n",
    "print(\"Number of components picked is: {}. It explains {} % variance\".format(100, cummulative_var_explained[100]))\n"
   ]
  },
  {
   "cell_type": "markdown",
   "metadata": {},
   "source": [
    "At 100 components, we explain 74.7% of the variance. We believe that it strikes the right balance between representativeness and parsimony. It explains a significant percentage of the variance with a rather small fraction of the total number of possible components."
   ]
  },
  {
   "cell_type": "markdown",
   "metadata": {},
   "source": [
    "<div class='exercise'><b> Question 3 [30 pts]: Principal Components Regression (PCR) </b></div>\n",
    "\n",
    "**3.1** Fit three separate Logistic Regression models using principal components as the predictors: (1) with just the first 2 PCA vectors, (2) with the number of component vectors your chose from 2.4 above, and (3) with the number of components that explain at least 90% of the variability in the predictor set. How do the classification accuracy values on both the training and test sets compare with the models fit in Question 1?\n",
    "\n",
    "**3.2** Use cross-validation to determine the best number of principal components. Try out the 3 values from the previous sub-part and optionally include other values as well. For the best performing model according to cross-validation, interpret what the model says about the relationship between `M31523_at` and `Cancer_type`.\n",
    "\n",
    "**3.3** Another way to evaluate models in a classification setting is through an Area-under-the-ROC-Curve (AUC). Briefly explain what the AUC and the ROC are trying to do and how this approach differs (and may be prefered) from evaluating models based on misclassification rate (as you have done thus far in this problem set).\n",
    "\n",
    "**3.4** Evaluate all 6 predictive models (7 if you optionally found a better number of principal components in 3.2) seen in problems 1 and 3 via Area-under-the-ROC-Curve (AUC) on the test set. For the model with the best AUC, plot the ROC. Decide an appropriate strategy for breaking ties, if there are any. Briefly interpret your plot.\n",
    "\n",
    "**3.5** Based on AUC, is there one clear stand-out winner or are a lot of models similar in prediction?  If you were to predict real cancer patients, how would use these models to predict cancer type?"
   ]
  },
  {
   "cell_type": "markdown",
   "metadata": {},
   "source": [
    "<hr>\n",
    "\n",
    "### Solutions"
   ]
  },
  {
   "cell_type": "markdown",
   "metadata": {},
   "source": [
    "**3.1 Fit three separate Logistic Regression models using principal components as the predictors: (1) with just the first 2 PCA vectors, (2) with the number of component vectors your chose from 2.4 above, and (3) with the number of components that explain at least 90% of the variability in the predictor set.  How do the classification accuracy values on both the training and test sets compare with the models fit in Question 1?**"
   ]
  },
  {
   "cell_type": "code",
   "execution_count": 69,
   "metadata": {},
   "outputs": [
    {
     "name": "stdout",
     "output_type": "stream",
     "text": [
      "2 PCA components\n",
      "The misclassifcation rate for the training set is: 24.1%\n",
      "The misclassifcation rate for the testing set is: 23.2%\n",
      "\n",
      "100 PCA components\n",
      "The misclassifcation rate for the training set is: 8.3%\n",
      "The misclassifcation rate for the testing set is: 15.2%\n",
      "\n",
      "232 PCA components\n",
      "The misclassifcation rate for the training set is: 1.7%\n",
      "The misclassifcation rate for the testing set is: 21.2%\n"
     ]
    }
   ],
   "source": [
    "# first model: top 2 PCA components\n",
    "log_model_pca = LogisticRegression(solver = \"liblinear\")\n",
    "log_model_pca.fit(X_train_decomposed[:,0:2], y_train)\n",
    "\n",
    "print('2 PCA components')\n",
    "print_error_rate(X_train_decomposed[:,0:2], y_train, 'training', log_model_pca)\n",
    "print_error_rate(X_test_decomposed[:,0:2], y_test, 'testing', log_model_pca)\n",
    "\n",
    "# second model: top 100 predictors > 74% variance explained\n",
    "log_model_pca100 = LogisticRegression(solver = \"liblinear\")\n",
    "log_model_pca100.fit(X_train_decomposed[:,0:100], y_train)\n",
    "\n",
    "print('\\n100 PCA components')\n",
    "print_error_rate(X_train_decomposed[:,0:100], y_train, 'training', log_model_pca100)\n",
    "print_error_rate(X_test_decomposed[:,0:100], y_test, 'testing', log_model_pca100)\n",
    "\n",
    "# third model: top 232 predictors > 90% variance explained\n",
    "log_model_pca232 = LogisticRegression(solver = \"liblinear\")\n",
    "log_model_pca232.fit(X_train_decomposed[:,0:232], y_train)\n",
    "\n",
    "print('\\n232 PCA components')\n",
    "print_error_rate(X_train_decomposed[:,0:232], y_train, 'training', log_model_pca232)\n",
    "print_error_rate(X_test_decomposed[:,0:232], y_test, 'testing', log_model_pca232)"
   ]
  },
  {
   "cell_type": "markdown",
   "metadata": {},
   "source": [
    "The misclassification rates from question 1 were as follows:\n",
    "\n",
    "Unregularized\n",
    "<br />The misclassifcation rate for the training set is: 0.0%\n",
    "<br />The misclassifcation rate for the testing set is: 23.2%\n",
    "\n",
    "Regularized\n",
    "<br />The misclassifcation rate for the training set is: 9.0%\n",
    "<br />The misclassifcation rate for the testing set is: 13.9%\n",
    "\n",
    "KNeighborsClassifier(k=7)\n",
    "<br />The misclassifcation rate for the train set is: 9.8%\n",
    "<br />The misclassifcation rate for the test set is: 26.5%\n",
    "\n",
    "As we can see comparing the 6 models, the lowest missclassification rate on the training set was given by the unregularized model. However, that model performed poorly on the testing set. The lowest missclassification rate on the testing set resulted from the regularized model, followed by the PCA model with 100 components. On average, the PCA models didn't outperform the models from question 1 significantly, however the PCA model with 100 components yielded a relatively good misclassification rate on the testing set. Perhaps, with an adjusted number of components, we could get the misclassification rate to go down even further.\n",
    "\n",
    "\n",
    "\n",
    "\n"
   ]
  },
  {
   "cell_type": "markdown",
   "metadata": {},
   "source": [
    "**3.2 Use cross-validation to determine the best number of principal components. Try out the 3 values from the previous sub-part and optionally include other values as well. For the best performing model according to cross-validation, interpret what the model says about the relationship between `M31523_at` and `Cancer_type`**."
   ]
  },
  {
   "cell_type": "code",
   "execution_count": 102,
   "metadata": {},
   "outputs": [
    {
     "name": "stdout",
     "output_type": "stream",
     "text": [
      "2 PCA components\n",
      "The misclassifcation rate for the training set is: 21.6%\n",
      "The misclassifcation rate for the testing set is: 21.2%\n",
      "\n",
      "100 PCA components\n",
      "The misclassifcation rate for the training set is: 9.8%\n",
      "The misclassifcation rate for the testing set is: 13.2%\n",
      "\n",
      "232 PCA components\n",
      "The misclassifcation rate for the training set is: 9.7%\n",
      "The misclassifcation rate for the testing set is: 13.2%\n",
      "\n",
      "50 PCA components\n",
      "The misclassifcation rate for the training set is: 9.8%\n",
      "The misclassifcation rate for the testing set is: 13.2%\n",
      "\n",
      "The best performing model according to cross validation is the 232 component PCA model as it has a slightly lower misclassification score on the training set. However, 100 component and 50 component PCA models have very similar misclassification rates so it is close to a tie.\n"
     ]
    },
    {
     "data": {
      "image/png": "[encoded data removed]",
      "text/plain": [
       "<Figure size 1584x360 with 1 Axes>"
      ]
     },
     "metadata": {},
     "output_type": "display_data"
    },
    {
     "name": "stdout",
     "output_type": "stream",
     "text": [
      "As can be seen on the plot, the weight of M31523_at by PCA vector varies a lot and even for the PCA vector with the highest weight (PCA 2), the weight of M31523_at doesn't exceed 0.04. Hence, it has a limited impact.\n"
     ]
    }
   ],
   "source": [
    "# first model: top 2 PCA components\n",
    "CV_log_model = LogisticRegressionCV(solver='liblinear', cv=3,  max_iter=1000)\n",
    "CV_log_model.fit(X_train_decomposed[:,0:2], y_train)\n",
    "\n",
    "print('2 PCA components')\n",
    "print_error_rate(X_train_decomposed[:,0:2], y_train, 'training', CV_log_model)\n",
    "print_error_rate(X_test_decomposed[:,0:2], y_test, 'testing', CV_log_model)\n",
    "\n",
    "# second model: top 100 predictors >74% variance explained\n",
    "CV_log_model100 = LogisticRegressionCV(solver='liblinear', cv=3,  max_iter=1000)\n",
    "CV_log_model100.fit(X_train_decomposed[:,0:100], y_train)\n",
    "\n",
    "print('\\n100 PCA components')\n",
    "print_error_rate(X_train_decomposed[:,0:100], y_train, 'training', CV_log_model100)\n",
    "print_error_rate(X_test_decomposed[:,0:100], y_test, 'testing', CV_log_model100)\n",
    "\n",
    "# third model: top 232 predictors > 90% variance explained\n",
    "CV_log_model232 = LogisticRegressionCV(solver='liblinear', cv=3,  max_iter=1000)\n",
    "CV_log_model232.fit(X_train_decomposed[:,0:232], y_train)\n",
    "\n",
    "print('\\n232 PCA components')\n",
    "print_error_rate(X_train_decomposed[:,0:232], y_train, 'training', CV_log_model232)\n",
    "print_error_rate(X_test_decomposed[:,0:232], y_test, 'testing', CV_log_model232)\n",
    "\n",
    "#optional model: top 50 predictors\n",
    "CV_log_model50 = LogisticRegressionCV(solver='liblinear', cv=3,  max_iter=1000)\n",
    "CV_log_model50.fit(X_train_decomposed[:,0:50], y_train)\n",
    "\n",
    "print('\\n50 PCA components')\n",
    "print_error_rate(X_train_decomposed[:,0:50], y_train, 'training', CV_log_model50)\n",
    "print_error_rate(X_test_decomposed[:,0:50], y_test, 'testing', CV_log_model50)\n",
    "\n",
    "#best model\n",
    "print(\"\\nThe best performing model according to cross validation is the 232 component PCA model as it has a slightly lower misclassification score on the training set. However, 100 component and 50 component PCA models have very similar misclassification rates so it is close to a tie.\")\n",
    "\n",
    "#relationship between M31523_at and Cancer_type\n",
    "coefficients = pd.DataFrame(pca_transformer.components_[0:30], columns = X_train.columns)\n",
    "plt.figure(figsize = (22,5))\n",
    "plt.plot(['PCA%d' % (i+1) for i in range(30)], coefficients['M31523_at'])\n",
    "plt.xlabel('PCA Vector')\n",
    "plt.ylabel('M31523_at weight')\n",
    "plt.title('M31523_at weight vs PCA Vector')\n",
    "plt.show()\n",
    "print(\"As can be seen on the plot, the weight of M31523_at by PCA vector varies a lot and even for the PCA vector with the highest weight (PCA 2), the weight of M31523_at doesn't exceed 0.04. Hence, it has a limited impact.\")\n"
   ]
  },
  {
   "cell_type": "markdown",
   "metadata": {},
   "source": [
    "**3.3 Another way to evaluate models in a classification setting is through an Area-under-the-ROC-Curve (AUC). Briefly explain what the AUC and the ROC are trying to do and how this approach differs (and may be prefered) from evaluating models based on misclassification rate (as you have done thus far in this problem set).**"
   ]
  },
  {
   "cell_type": "markdown",
   "metadata": {},
   "source": [
    "The area-under-the-ROC-curve explains how well the model seperates data into different classes ie. it answers the questions \"How good is the model at classifying the data?\" and \"How certain can we be about the classification decision?\". The misclassification rate on the other hand only tells us what % of data points have not been classified into the right group. It doesn't tell us anything about the certainty with which a model classifies the data."
   ]
  },
  {
   "cell_type": "markdown",
   "metadata": {},
   "source": [
    "**3.4 Evaluate all 6 predictive models (7 if you optionally found a better number of principal components in 3.2) seen in problems 1 and 3 via Area-under-the-ROC-Curve (AUC) on the test set. For the best model with the best AUC, plot the ROC. Decide an appropriate strategy for breaking ties, if there are any. Briefly interpret your plot.**"
   ]
  },
  {
   "cell_type": "code",
   "execution_count": 93,
   "metadata": {},
   "outputs": [
    {
     "name": "stdout",
     "output_type": "stream",
     "text": [
      "Accuracy score for unregularized model: 76.69357669357669 %\n",
      "Accuracy score for kNN model: 86.07406107406106 %\n",
      "Accuracy score for LassoCV model: 86.07406107406106 %\n",
      "Accuracy score for 2 PCA model: 76.85152685152686 %\n",
      "Accuracy score for 100 PCA model: 84.72270972270972 %\n",
      "Accuracy score for 50 PCA model: 86.07406107406106 %\n",
      "Accuracy score for 232 PCA model: 78.74692874692875 %\n",
      "There is a tie between kNN, LassoCV and 50 component PCA for best model. We will pick the LassoCV model for its simplicity and efficiency.\n"
     ]
    },
    {
     "data": {
      "image/png": "[encoded data removed]",
      "text/plain": [
       "<Figure size 432x288 with 1 Axes>"
      ]
     },
     "metadata": {},
     "output_type": "display_data"
    },
    {
     "name": "stdout",
     "output_type": "stream",
     "text": [
      "As we can see from the plot, the cutoff for classification is at around 0.2 FPR. After that, the curve reaches a plateau and there is little gain.\n"
     ]
    }
   ],
   "source": [
    "# Unregularized\n",
    "y_unreg = log_model.predict(X_test)\n",
    "score_unreg = metrics.roc_auc_score(y_test, y_unreg)\n",
    "print(\"Accuracy score for unregularized model: {} %\".format(score_unreg*100))\n",
    "\n",
    "# kNN\n",
    "knn_model = KNeighborsClassifier(n_neighbors=best_k).fit(X_train, y_train)\n",
    "y_knn = knn_model.predict(X_test)\n",
    "score_knn = metrics.roc_auc_score(y_test, y_knn)\n",
    "print(\"Accuracy score for kNN model: {} %\".format(score_knn*100))\n",
    "\n",
    "# LassoCV\n",
    "y_lasso = lasso_log_model.predict(X_test)\n",
    "score_lasso = metrics.roc_auc_score(y_test, y_lasso)\n",
    "print(\"Accuracy score for LassoCV model: {} %\".format(score_lasso*100))\n",
    "\n",
    "# 2 PCA\n",
    "y_2cv = log_model_pca.predict(X_test_decomposed[:,0:2])\n",
    "score_2cv = metrics.roc_auc_score(y_test, y_2cv)\n",
    "print(\"Accuracy score for 2 PCA model: {} %\".format(score_2cv*100))\n",
    "\n",
    "# 100 PCA\n",
    "y_100cv = log_model_pca100.predict(X_test_decomposed[:,0:100])\n",
    "score_100cv = metrics.roc_auc_score(y_test, y_100cv)\n",
    "print(\"Accuracy score for 100 PCA model: {} %\".format(score_100cv*100))\n",
    "\n",
    "# 50 PCA\n",
    "log_model_pca50 = LogisticRegression(solver = \"liblinear\")\n",
    "log_model_pca50.fit(X_train_decomposed[:,0:50], y_train)\n",
    "y_50cv = log_model_pca50.predict(X_test_decomposed[:,0:50])\n",
    "score_50cv = metrics.roc_auc_score(y_test, y_50cv)\n",
    "print(\"Accuracy score for 50 PCA model: {} %\".format(score_50cv*100))\n",
    "\n",
    "# 232 PCA\n",
    "y_232cv = log_model_pca232.predict(X_test_decomposed[:,0:232])\n",
    "score_232cv = metrics.roc_auc_score(y_test, y_232cv)\n",
    "print(\"Accuracy score for 232 PCA model: {} %\".format(score_232cv*100))\n",
    "\n",
    "#pick best\n",
    "print(\"There is a tie between kNN, LassoCV and 50 component PCA for best model. We will pick the LassoCV model for its simplicity and efficiency.\")\n",
    "\n",
    "#plot ROC\n",
    "fpr, tpr, thresholds = metrics.roc_curve(y_test, lasso_log_model.predict_proba(X_test)[:, 1])\n",
    "plt.plot(fpr, tpr)\n",
    "plt.xlabel('FPR')\n",
    "plt.ylabel('TPR')\n",
    "plt.title('ROC plot for LassoCV model (best fit model)')\n",
    "plt.show()\n",
    "print(\"As we can see from the plot, the cutoff for classification is at around 0.2 FPR. After that, the curve reaches a plateau and there is little gain.\")"
   ]
  },
  {
   "cell_type": "markdown",
   "metadata": {},
   "source": [
    "**3.5 Based on AUC, is there one clear stand-out winner or are a lot of models similar in prediction? If you were to predict real cancer patients, how would use these models to predict cancer type?**"
   ]
  },
  {
   "cell_type": "markdown",
   "metadata": {},
   "source": [
    "Based on AUC, there is not a clear winner. As we saw, the accuracy score for kNN, LassoCV and PCA were the same or very similar. Since cancer outcomes are so crucial, I might use all three top performing models and triangulate the predictions.\n"
   ]
  },
  {
   "cell_type": "markdown",
   "metadata": {},
   "source": [
    "<div class='exercise'><b> Question 4: COMPAS [30 points] </b></div>\n",
    "\n",
    "This problem is unrelated to the first 3 problems, and steps through analyzing the COMPAS data set `compas.csv`.  The variables are roughly explained in the `compas_datadict.csv` file, and ProPublica's analysis is publically available here: https://github.com/propublica/compas-analysis.\n",
    "\n",
    "**4.1** Split the data into 80% training and 20% test stratified by race. Before splitting you may want to process the categorical predictors first so you don't have to do it separately in tain and test later.\n",
    "\n",
    "**4.2** Do a little EDA: explore what variables are related to race. Report 3 variables that appear to have significant differences between Caucasians and African Americans, and provide visuals and numerical summaries to support these chosen variables.\n",
    "\n",
    "**4.3** With respect to these 3 chosen variables, how could bias in the data or data collection be impacting or causing these differences?  Explain in 3-5 sentences.\n",
    "\n",
    "**4.4**. Build 2 seperate models to predict recidivism (`two_year_recid`) from these data (2 different 'classes' of models: $k$-NN, linear, logistic, etc.) and be sure to include race as a predictor. \n",
    "\n",
    "**4.5**. Refit the models in 4.4 without race as a predictor.  Report the overall misclassifcation rates, and compare the differences in false positive and false negative rates between Caucasians and African Americans in these models on the test set.  How do these compare to the models when race is included as a predictor?\n",
    "\n",
    "**4.6**. Given your exploration and modeling of the data, should a predictive tool be trusted to be unbiased even if it doesn’t explicitly use a variable such as race to predict future crime?  Why or why not?  Why is the bias still occurring or not occurring?  Explain in 3-6 sentences total."
   ]
  },
  {
   "cell_type": "markdown",
   "metadata": {},
   "source": [
    "<hr>\n",
    "\n",
    "### Solutions"
   ]
  },
  {
   "cell_type": "markdown",
   "metadata": {},
   "source": [
    "**4.1 Split the data into 80% training and 20% test stratified by race.  Before splitting you may want to process the categorical predictors first so you don't have to do it separately in tain and test later.**"
   ]
  },
  {
   "cell_type": "code",
   "execution_count": null,
   "metadata": {},
   "outputs": [],
   "source": [
    "compas_df = pd.read_csv('data/compas.csv')\n",
    "\n",
    "# your code here\n",
    "\n"
   ]
  },
  {
   "cell_type": "markdown",
   "metadata": {},
   "source": [
    "**4.2 Do a little EDA: explore what variables are related to race. Report 3 variables that appear to have significant differences between Caucasians and African Americans, and provide visuals and numerical summaries to support these chosen variables.**"
   ]
  },
  {
   "cell_type": "code",
   "execution_count": null,
   "metadata": {},
   "outputs": [],
   "source": [
    "# your code here\n"
   ]
  },
  {
   "cell_type": "markdown",
   "metadata": {},
   "source": [
    "**4.3 With respect to these 3 chosen variables, how could bias in the data or data collection be impacting or causing these differences? Explain in 3-5 sentences.**"
   ]
  },
  {
   "cell_type": "markdown",
   "metadata": {},
   "source": [
    "*your answer here*"
   ]
  },
  {
   "cell_type": "markdown",
   "metadata": {},
   "source": [
    "**4.4. Build 2 seperate models to predict recidivism (`two_year_recid`) from these data (2 different 'classes' of models:  $k$-NN, linear, logistic, etc.) and be sure to include race as a predictor.**"
   ]
  },
  {
   "cell_type": "code",
   "execution_count": null,
   "metadata": {},
   "outputs": [],
   "source": [
    "# your code here\n"
   ]
  },
  {
   "cell_type": "markdown",
   "metadata": {},
   "source": [
    "**4.5. Refit the models in 4.4 without race as a predictor. Report the overall misclassifcation rates, and compare the differences in false positive and false negative rates between Caucasians and African Americans in these models on the test set. How do these compare to the models when race is included as a predictor?**"
   ]
  },
  {
   "cell_type": "code",
   "execution_count": null,
   "metadata": {},
   "outputs": [],
   "source": [
    "# your code here\n"
   ]
  },
  {
   "cell_type": "markdown",
   "metadata": {},
   "source": [
    "**4.6. Given your exploration and modeling of the data, should a predictive tool be trusted to be unbiased even if it doesn’t explicitly use a variable such as race to predict future crime?  Why or why not?  Why is the bias still occurring or not occurring?  Explain in 3-6 sentences total.**"
   ]
  },
  {
   "cell_type": "markdown",
   "metadata": {},
   "source": [
    "*your answer here*\n"
   ]
  },
  {
   "cell_type": "markdown",
   "metadata": {},
   "source": [
    "---"
   ]
  }
 ],
 "metadata": {
  "kernelspec": {
   "display_name": "Python 3",
   "language": "python",
   "name": "python3"
  },
  "language_info": {
   "codemirror_mode": {
    "name": "ipython",
    "version": 3
   },
   "file_extension": ".py",
   "mimetype": "text/x-python",
   "name": "python",
   "nbconvert_exporter": "python",
   "pygments_lexer": "ipython3",
   "version": "3.7.3"
  }
 },
 "nbformat": 4,
 "nbformat_minor": 2
}
