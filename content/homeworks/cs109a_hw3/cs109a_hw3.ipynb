{
 "cells": [
  {
   "cell_type": "markdown",
   "metadata": {
    "button": false,
    "new_sheet": false,
    "run_control": {
     "read_only": false
    }
   },
   "source": [
    "# <img style=\"float: left; padding-right: 10px; width: 45px\" src=\"https://raw.githubusercontent.com/Harvard-IACS/2018-CS109A/master/content/styles/iacs.png\"> CS109A Introduction to Data Science: \n",
    "## Homework 3 - Regression Modeling to Forecast Bike Sharing Usage\n",
    "\n",
    "\n",
    "\n",
    "**Harvard University**<br/>\n",
    "**Fall 2019**<br/>\n",
    "**Instructors**: Pavlos Protopapas, Kevin Rader, Chris Tanner\n",
    "\n",
    "<hr style=\"height:2pt\">"
   ]
  },
  {
   "cell_type": "code",
   "execution_count": 1,
   "metadata": {
    "button": false,
    "new_sheet": false,
    "run_control": {
     "read_only": false
    }
   },
   "outputs": [
    {
     "data": {
      "text/html": [
       "<style>\n",
       "blockquote { background: #AEDE94; }\n",
       "h1 { \n",
       "    padding-top: 25px;\n",
       "    padding-bottom: 25px;\n",
       "    text-align: left; \n",
       "    padding-left: 10px;\n",
       "    background-color: #DDDDDD; \n",
       "    color: black;\n",
       "}\n",
       "h2 { \n",
       "    padding-top: 10px;\n",
       "    padding-bottom: 10px;\n",
       "    text-align: left; \n",
       "    padding-left: 5px;\n",
       "    background-color: #EEEEEE; \n",
       "    color: black;\n",
       "}\n",
       "\n",
       "div.exercise {\n",
       "\tbackground-color: #ffcccc;\n",
       "\tborder-color: #E9967A; \t\n",
       "\tborder-left: 5px solid #800080; \n",
       "\tpadding: 0.5em;\n",
       "}\n",
       "\n",
       "span.sub-q {\n",
       "\tfont-weight: bold;\n",
       "}\n",
       "div.theme {\n",
       "\tbackground-color: #DDDDDD;\n",
       "\tborder-color: #E9967A; \t\n",
       "\tborder-left: 5px solid #800080; \n",
       "\tpadding: 0.5em;\n",
       "\tfont-size: 18pt;\n",
       "}\n",
       "div.gc { \n",
       "\tbackground-color: #AEDE94;\n",
       "\tborder-color: #E9967A; \t \n",
       "\tborder-left: 5px solid #800080; \n",
       "\tpadding: 0.5em;\n",
       "\tfont-size: 12pt;\n",
       "}\n",
       "p.q1 { \n",
       "    padding-top: 5px;\n",
       "    padding-bottom: 5px;\n",
       "    text-align: left; \n",
       "    padding-left: 5px;\n",
       "    background-color: #EEEEEE; \n",
       "    color: black;\n",
       "}\n",
       "header {\n",
       "   padding-top: 35px;\n",
       "    padding-bottom: 35px;\n",
       "    text-align: left; \n",
       "    padding-left: 10px;\n",
       "    background-color: #DDDDDD; \n",
       "    color: black;\n",
       "}\n",
       "</style>\n",
       "\n"
      ],
      "text/plain": [
       "<IPython.core.display.HTML object>"
      ]
     },
     "execution_count": 1,
     "metadata": {},
     "output_type": "execute_result"
    }
   ],
   "source": [
    "#RUN THIS CELL \n",
    "import requests\n",
    "from IPython.core.display import HTML\n",
    "styles = requests.get(\"https://raw.githubusercontent.com/Harvard-IACS/2018-CS109A/master/content/styles/cs109.css\").text\n",
    "HTML(styles)"
   ]
  },
  {
   "cell_type": "markdown",
   "metadata": {
    "button": false,
    "new_sheet": false,
    "run_control": {
     "read_only": false
    }
   },
   "source": [
    "### INSTRUCTIONS\n",
    "\n",
    "- To submit your assignment follow the instructions given in Canvas.\n",
    "- Restart the kernel and run the whole notebook again before you submit. \n",
    "- As much as possible, try and stick to the hints and functions we import at the top of the homework, as those are the ideas and tools the class supports and is aiming to teach. And if a problem specifies a particular library you're required to use that library, and possibly others from the import list.\n",
    "- Please use .head() when viewing data. Do not submit a notebook that is excessively long because output was not suppressed or otherwise limited. "
   ]
  },
  {
   "cell_type": "markdown",
   "metadata": {
    "button": false,
    "new_sheet": false,
    "run_control": {
     "read_only": false
    }
   },
   "source": [
    "<hr style=\"height:2pt\">"
   ]
  },
  {
   "cell_type": "markdown",
   "metadata": {
    "run_control": {}
   },
   "source": [
    "![bike_sharing](fig/BSS.png)\n",
    "\n",
    "<div class=\"theme\">  Main Theme: Multiple Linear Regression, Polynomial Regression, Ridge and Lasso Regression </div>\n",
    "### Overview \n",
    "\n",
    "You are hired by the administrators of the [Capital Bikeshare program](https://www.capitalbikeshare.com) program in Washington D.C., to **help them predict the hourly demand for rental bikes** and **give them suggestions on how to increase their revenue**. Your task is to prepare a short report summarizing your findings and make recommendations.\n",
    "\n",
    "The predicted hourly demand could be used for planning the number of bikes that need to be available in the system at any given hour of the day. It costs the program money if bike stations are full and bikes cannot be returned, or empty and there are no bikes available. You will use multiple linear regression and polynomial regression and will explore ridge and lasso regression to predict bike usage. The goal is to build a regression model that can predict the total number of bike rentals in a given hour of the day, based on all available information given to you. \n",
    "\n",
    "An example of a suggestion to increase revenue might be to offer discounts during certain times of the day either during holidays or non-holidays. Your suggestions will depend on your observations of the seasonality of ridership.\n",
    "\n",
    "The data for this problem were collected from the Capital Bikeshare program over the course of two years (2011 and 2012).\n",
    "\n"
   ]
  },
  {
   "cell_type": "markdown",
   "metadata": {
    "run_control": {}
   },
   "source": [
    "### Use only the libraries below:"
   ]
  },
  {
   "cell_type": "code",
   "execution_count": 2,
   "metadata": {
    "button": false,
    "new_sheet": false,
    "run_control": {
     "read_only": false
    }
   },
   "outputs": [],
   "source": [
    "import numpy as np\n",
    "import pandas as pd\n",
    "import matplotlib\n",
    "import matplotlib.pyplot as plt\n",
    "\n",
    "import statsmodels.api as sm\n",
    "from statsmodels.api import OLS\n",
    "\n",
    "from sklearn.model_selection import train_test_split\n",
    "from sklearn.preprocessing import PolynomialFeatures\n",
    "from sklearn.preprocessing import StandardScaler\n",
    "from sklearn.linear_model import LinearRegression\n",
    "from sklearn.linear_model import Ridge\n",
    "from sklearn.linear_model import RidgeCV\n",
    "from sklearn.linear_model import LassoCV\n",
    "from sklearn.metrics import r2_score\n",
    "\n",
    "from pandas.plotting import scatter_matrix\n",
    "\n",
    "# Adding just to supress warnings. No other libraries are added\n",
    "# SRC https://stackoverflow.com/questions/15777951/how-to-suppress-pandas-future-warning\n",
    "import warnings\n",
    "warnings.simplefilter(action='ignore', category=FutureWarning)"
   ]
  },
  {
   "cell_type": "markdown",
   "metadata": {
    "run_control": {}
   },
   "source": [
    "### Overview\n",
    "The initial data set is provided in the file `data/BSS_hour_raw.csv`. You will first add features that will help with the analysis and then separate the data into training and test sets. Each row in this file represents the number of rides by registered users and casual users in a given hour of a specific date. There are 12 attributes in total describing besides the number of users the weather if it is a holiday or not etc: \n",
    "\n",
    "\n",
    "- `dteday` (date in the format YYYY-MM-DD, e.g. 2011-01-01)\n",
    "- `season` (1 = winter, 2 = spring, 3 = summer, 4 = fall)\n",
    "- `hour` (0 for 12 midnight, 1 for 1:00am, 23 for 11:00pm)\n",
    "- `weekday` (0 through 6, with 0 denoting Sunday)\n",
    "- `holiday` (1 = the day is a holiday, 0 = otherwise)\n",
    "- `weather`\n",
    "    - 1: Clear, Few clouds, Partly cloudy, Partly cloudy\n",
    "    - 2: Mist + Cloudy, Mist + Broken clouds, Mist + Few clouds, Mist\n",
    "    - 3: Light Snow, Light Rain + Thunderstorm\n",
    "    - 4: Heavy Rain + Thunderstorm + Mist, Snow + Fog \n",
    "- `temp` (temperature in Celsius, normalized)\n",
    "- `atemp` (apparent temperature, or relative outdoor temperature, in Celsius, normalized)\n",
    "- `hum` (relative humidity, normalized)\n",
    "- `windspeed` (wind speed, normalized)\n",
    "- `casual` (number of rides that day made by casual riders, not registered in the system)\n",
    "- `registered` (number of rides that day made by registered riders)"
   ]
  },
  {
   "cell_type": "markdown",
   "metadata": {
    "button": false,
    "new_sheet": false,
    "run_control": {
     "read_only": false
    }
   },
   "source": [
    "<div class=\"exercise\"> <b> Question 1 [6pts]: Data Read-In and Processing </b> </div>\n",
    "\n",
    "In this section, we read in the data and begin one of the most important analytic steps: verifying that the data is what it claims to be.\n",
    "\n",
    "**1.1** Load the dataset from the csv file `data/BSS_hour_raw.csv` into a pandas dataframe that you name `bikes_df_raw`. Do any of the variables' ranges or averages seem suspect? Do the data types make sense?\n",
    "\n",
    "**1.2** Notice that the variable in column `dteday` is a pandas `object`, which is **not**  useful when you want to extract the elements of the date such as the year, month, and day. Convert `dteday` into a `datetime` object to prepare it for later analysis.\n",
    "\n",
    "**Hint:** http://pandas.pydata.org/pandas-docs/stable/generated/pandas.to_datetime.html\n",
    "\n",
    "**1.3** Create three new columns in the dataframe:\n",
    "- `year` with 0 for 2011, 1 for 2012, etc.\n",
    "- `month` with 1 through 12, with 1 denoting January.\n",
    "- `counts` with the total number of bike rentals for that **hour** (this is the response variable for later)."
   ]
  },
  {
   "cell_type": "markdown",
   "metadata": {
    "button": false,
    "new_sheet": false,
    "run_control": {
     "read_only": false
    }
   },
   "source": [
    "### Answers"
   ]
  },
  {
   "cell_type": "markdown",
   "metadata": {
    "button": false,
    "new_sheet": false,
    "run_control": {
     "read_only": false
    }
   },
   "source": [
    "**1.1 Load the dataset from the csv file...**"
   ]
  },
  {
   "cell_type": "code",
   "execution_count": 3,
   "metadata": {
    "button": false,
    "new_sheet": false,
    "run_control": {
     "read_only": false
    }
   },
   "outputs": [
    {
     "data": {
      "text/html": [
       "<div>\n",
       "<style scoped>\n",
       "    .dataframe tbody tr th:only-of-type {\n",
       "        vertical-align: middle;\n",
       "    }\n",
       "\n",
       "    .dataframe tbody tr th {\n",
       "        vertical-align: top;\n",
       "    }\n",
       "\n",
       "    .dataframe thead th {\n",
       "        text-align: right;\n",
       "    }\n",
       "</style>\n",
       "<table border=\"1\" class=\"dataframe\">\n",
       "  <thead>\n",
       "    <tr style=\"text-align: right;\">\n",
       "      <th></th>\n",
       "      <th>season</th>\n",
       "      <th>hour</th>\n",
       "      <th>holiday</th>\n",
       "      <th>weekday</th>\n",
       "      <th>workingday</th>\n",
       "      <th>weather</th>\n",
       "      <th>temp</th>\n",
       "      <th>atemp</th>\n",
       "      <th>hum</th>\n",
       "      <th>windspeed</th>\n",
       "      <th>casual</th>\n",
       "      <th>registered</th>\n",
       "    </tr>\n",
       "  </thead>\n",
       "  <tbody>\n",
       "    <tr>\n",
       "      <th>count</th>\n",
       "      <td>17379.000000</td>\n",
       "      <td>17379.000000</td>\n",
       "      <td>17379.000000</td>\n",
       "      <td>17379.000000</td>\n",
       "      <td>17379.000000</td>\n",
       "      <td>17379.000000</td>\n",
       "      <td>17379.000000</td>\n",
       "      <td>17379.000000</td>\n",
       "      <td>17379.000000</td>\n",
       "      <td>17379.000000</td>\n",
       "      <td>17379.000000</td>\n",
       "      <td>17379.000000</td>\n",
       "    </tr>\n",
       "    <tr>\n",
       "      <th>mean</th>\n",
       "      <td>2.501640</td>\n",
       "      <td>11.546752</td>\n",
       "      <td>0.028770</td>\n",
       "      <td>3.003683</td>\n",
       "      <td>0.682721</td>\n",
       "      <td>1.425283</td>\n",
       "      <td>0.496987</td>\n",
       "      <td>0.475775</td>\n",
       "      <td>0.627229</td>\n",
       "      <td>0.190098</td>\n",
       "      <td>35.676218</td>\n",
       "      <td>153.786869</td>\n",
       "    </tr>\n",
       "    <tr>\n",
       "      <th>std</th>\n",
       "      <td>1.106918</td>\n",
       "      <td>6.914405</td>\n",
       "      <td>0.167165</td>\n",
       "      <td>2.005771</td>\n",
       "      <td>0.465431</td>\n",
       "      <td>0.639357</td>\n",
       "      <td>0.192556</td>\n",
       "      <td>0.171850</td>\n",
       "      <td>0.192930</td>\n",
       "      <td>0.122340</td>\n",
       "      <td>49.305030</td>\n",
       "      <td>151.357286</td>\n",
       "    </tr>\n",
       "    <tr>\n",
       "      <th>min</th>\n",
       "      <td>1.000000</td>\n",
       "      <td>0.000000</td>\n",
       "      <td>0.000000</td>\n",
       "      <td>0.000000</td>\n",
       "      <td>0.000000</td>\n",
       "      <td>1.000000</td>\n",
       "      <td>0.020000</td>\n",
       "      <td>0.000000</td>\n",
       "      <td>0.000000</td>\n",
       "      <td>0.000000</td>\n",
       "      <td>0.000000</td>\n",
       "      <td>0.000000</td>\n",
       "    </tr>\n",
       "    <tr>\n",
       "      <th>25%</th>\n",
       "      <td>2.000000</td>\n",
       "      <td>6.000000</td>\n",
       "      <td>0.000000</td>\n",
       "      <td>1.000000</td>\n",
       "      <td>0.000000</td>\n",
       "      <td>1.000000</td>\n",
       "      <td>0.340000</td>\n",
       "      <td>0.333300</td>\n",
       "      <td>0.480000</td>\n",
       "      <td>0.104500</td>\n",
       "      <td>4.000000</td>\n",
       "      <td>34.000000</td>\n",
       "    </tr>\n",
       "    <tr>\n",
       "      <th>50%</th>\n",
       "      <td>3.000000</td>\n",
       "      <td>12.000000</td>\n",
       "      <td>0.000000</td>\n",
       "      <td>3.000000</td>\n",
       "      <td>1.000000</td>\n",
       "      <td>1.000000</td>\n",
       "      <td>0.500000</td>\n",
       "      <td>0.484800</td>\n",
       "      <td>0.630000</td>\n",
       "      <td>0.194000</td>\n",
       "      <td>17.000000</td>\n",
       "      <td>115.000000</td>\n",
       "    </tr>\n",
       "    <tr>\n",
       "      <th>75%</th>\n",
       "      <td>3.000000</td>\n",
       "      <td>18.000000</td>\n",
       "      <td>0.000000</td>\n",
       "      <td>5.000000</td>\n",
       "      <td>1.000000</td>\n",
       "      <td>2.000000</td>\n",
       "      <td>0.660000</td>\n",
       "      <td>0.621200</td>\n",
       "      <td>0.780000</td>\n",
       "      <td>0.253700</td>\n",
       "      <td>48.000000</td>\n",
       "      <td>220.000000</td>\n",
       "    </tr>\n",
       "    <tr>\n",
       "      <th>max</th>\n",
       "      <td>4.000000</td>\n",
       "      <td>23.000000</td>\n",
       "      <td>1.000000</td>\n",
       "      <td>6.000000</td>\n",
       "      <td>1.000000</td>\n",
       "      <td>4.000000</td>\n",
       "      <td>1.000000</td>\n",
       "      <td>1.000000</td>\n",
       "      <td>1.000000</td>\n",
       "      <td>0.850700</td>\n",
       "      <td>367.000000</td>\n",
       "      <td>886.000000</td>\n",
       "    </tr>\n",
       "  </tbody>\n",
       "</table>\n",
       "</div>"
      ],
      "text/plain": [
       "             season          hour       holiday       weekday    workingday  \\\n",
       "count  17379.000000  17379.000000  17379.000000  17379.000000  17379.000000   \n",
       "mean       2.501640     11.546752      0.028770      3.003683      0.682721   \n",
       "std        1.106918      6.914405      0.167165      2.005771      0.465431   \n",
       "min        1.000000      0.000000      0.000000      0.000000      0.000000   \n",
       "25%        2.000000      6.000000      0.000000      1.000000      0.000000   \n",
       "50%        3.000000     12.000000      0.000000      3.000000      1.000000   \n",
       "75%        3.000000     18.000000      0.000000      5.000000      1.000000   \n",
       "max        4.000000     23.000000      1.000000      6.000000      1.000000   \n",
       "\n",
       "            weather          temp         atemp           hum     windspeed  \\\n",
       "count  17379.000000  17379.000000  17379.000000  17379.000000  17379.000000   \n",
       "mean       1.425283      0.496987      0.475775      0.627229      0.190098   \n",
       "std        0.639357      0.192556      0.171850      0.192930      0.122340   \n",
       "min        1.000000      0.020000      0.000000      0.000000      0.000000   \n",
       "25%        1.000000      0.340000      0.333300      0.480000      0.104500   \n",
       "50%        1.000000      0.500000      0.484800      0.630000      0.194000   \n",
       "75%        2.000000      0.660000      0.621200      0.780000      0.253700   \n",
       "max        4.000000      1.000000      1.000000      1.000000      0.850700   \n",
       "\n",
       "             casual    registered  \n",
       "count  17379.000000  17379.000000  \n",
       "mean      35.676218    153.786869  \n",
       "std       49.305030    151.357286  \n",
       "min        0.000000      0.000000  \n",
       "25%        4.000000     34.000000  \n",
       "50%       17.000000    115.000000  \n",
       "75%       48.000000    220.000000  \n",
       "max      367.000000    886.000000  "
      ]
     },
     "execution_count": 3,
     "metadata": {},
     "output_type": "execute_result"
    }
   ],
   "source": [
    "# your code here\n",
    "bikes_df_raw = pd.read_csv('data/BSS_hour_raw.csv')\n",
    "bikes_df_raw.describe()"
   ]
  },
  {
   "cell_type": "markdown",
   "metadata": {
    "button": false,
    "new_sheet": false,
    "run_control": {
     "read_only": false
    }
   },
   "source": [
    "It's unexpected that the hour doesn't have a mean of 11.5. Some data might be missing.\n",
    "On a similar note, would expect weekday to be 3 exactly. Again, likely some messy data.\n",
    "Data types seem reasonable; we're not sure why dteday is an object, but we assume Pandas handles dates as an object instead of a string."
   ]
  },
  {
   "cell_type": "markdown",
   "metadata": {
    "button": false,
    "new_sheet": false,
    "run_control": {
     "read_only": false
    }
   },
   "source": [
    "**1.2 Notice that the variable in column...**"
   ]
  },
  {
   "cell_type": "code",
   "execution_count": 4,
   "metadata": {
    "button": false,
    "new_sheet": false,
    "run_control": {
     "read_only": false
    }
   },
   "outputs": [],
   "source": [
    "bikes_df_raw['dteday'] = pd.to_datetime(bikes_df_raw['dteday'])"
   ]
  },
  {
   "cell_type": "markdown",
   "metadata": {
    "button": false,
    "new_sheet": false,
    "run_control": {
     "read_only": false
    }
   },
   "source": [
    "**1.3 Create three new columns in the dataframe:...**"
   ]
  },
  {
   "cell_type": "code",
   "execution_count": 5,
   "metadata": {
    "button": false,
    "new_sheet": false,
    "run_control": {
     "read_only": false
    }
   },
   "outputs": [],
   "source": [
    "# SRC: https://thispointer.com/pandas-apply-apply-a-function-to-each-row-column-in-dataframe/\n",
    "bikes_df_raw['year'] = bikes_df_raw['dteday'].apply(lambda x : x.year - 2011)\n",
    "bikes_df_raw['month'] = bikes_df_raw['dteday'].apply(lambda x : x.month)\n",
    "bikes_df_raw['counts'] = bikes_df_raw['casual'] + bikes_df_raw['registered']"
   ]
  },
  {
   "cell_type": "markdown",
   "metadata": {},
   "source": [
    "---"
   ]
  },
  {
   "cell_type": "markdown",
   "metadata": {
    "button": false,
    "new_sheet": false,
    "run_control": {
     "read_only": false
    }
   },
   "source": [
    "<div class='exercise'> <b> Question 2 [20 pts]: Exploratory Data Analysis. </b></div>\n",
    "\n",
    "In this question we begin hunting for patterns in ridership that shed light on who uses the service and why.\n",
    "\n",
    "**2.1** Make a new dataframe with the following subset of attributes from the previous dataset and with each entry being just **one** day: \n",
    "\n",
    "- `dteday`, the timestamp for that day (fine to set to noon or any other time) \n",
    "- `weekday`, the day of the week\n",
    "- `weather`, the most severe weather that day\n",
    "- `season`, the season that day falls in\n",
    "- `temp`, the average temperature\n",
    "- `atemp`, the average atemp that day\n",
    "- `windspeed`, the average windspeed that day\n",
    "- `hum`, the average humidity that day\n",
    "- `casual`, the **total** number of rentals by casual users\n",
    "- `registered`, the **total** number of rentals by registered users\n",
    "- `counts`, the **total** number of rentals of that day\n",
    "\n",
    "Name this dataframe `bikes_by_day`.\n",
    "\n",
    "Make a plot showing  the _distribution_ of the number of casual and registered riders on each day of the week.\n",
    "\n",
    "**Hint:** helpful to use panda's `.groupby()` command\n",
    "\n",
    "**2.2** Use `bikes_by_day` to visualize how the distribution of **total number of rides** per day (casual and registered riders combined) varies with the **season**. Do you see any **outliers**? Here we use the pyplot's boxplot function definition of an outlier as any value 1.5 times the IQR above the 75th percentile or 1.5 times the IQR below the 25th percentiles. If you see any outliers, identify those dates and investigate if they are a chance occurence, an error in the data collection, or a significant event (an online search of those date(s) might help). \n",
    "\n",
    "**2.3** Convert the categorical attributes ('season', 'month', 'weekday', 'weather') into multiple binary attributes using **one-hot encoding** and call this new dataframe `bikes_df`.\n",
    "\n",
    "**2.4** Split the updated `bikes_df` dataset into a 50-50 train-test split (call them `bikes_train` and `bikes_test`, respectively). Do this in a 'stratified' fashion, ensuring that all months are equally represented in each set.  Use `random_state=90`, a test set size of .5, and stratify on month.  Remember to specify the data's index column as you read it in.\n",
    "\n",
    "**2.5** Although we asked you to create your train and test set, for consistency and easy checking, we ask that for the rest of this problem set you use the train and test set provided in the files `data/BSS_train.csv` and `data/BSS_test.csv`. Read these two files into dataframes `BSS_train` and `BSS_test`, respectively. Remove the `dteday` column from both the train and the test dataset (its format cannot be used for analysis). \n",
    "\n",
    "**2.6** Use pandas' `scatter_matrix` command to visualize the inter-dependencies among the list of predictors listed below in the training dataset. Note and comment on any strongly related variables. [This may take a few minutes to run. You may wish to comment it out until your final submission, or only plot a randomly-selected 10% of the rows]\n",
    "\n",
    "`cor_columns = ['hour', 'holiday', 'temp', 'atemp', \n",
    "               'workingday', 'hum', 'windspeed', \n",
    "               'counts', 'casual', 'registered',\n",
    "               'fall', 'summer', 'spring', \n",
    "               'Snow', 'Storm', 'Cloudy']`\n",
    "\n",
    "**2.7** Make a plot showing the _average_ number of casual and registered riders during each hour of the day. `.groupby` and `.aggregate` should make this task easy. Comment on the trends you observe. \n",
    "\n",
    "**2.8** Use the one-hot-encoded `weather` related variables to show how each weather category affects the relationships in question 2.6.  Remember you should have four plots, one for each weather type (Cloudy, Storm, Snow, and Clear), even though there are only three columns related to weather after one-hot-encoding. What do you observe?"
   ]
  },
  {
   "cell_type": "markdown",
   "metadata": {
    "button": false,
    "new_sheet": false,
    "run_control": {
     "read_only": false
    }
   },
   "source": [
    "### Answers"
   ]
  },
  {
   "cell_type": "markdown",
   "metadata": {
    "button": false,
    "new_sheet": false,
    "run_control": {
     "read_only": false
    }
   },
   "source": [
    "**2.1 Make a new dataframe...**"
   ]
  },
  {
   "cell_type": "code",
   "execution_count": 6,
   "metadata": {
    "button": false,
    "new_sheet": false,
    "run_control": {
     "read_only": false
    }
   },
   "outputs": [
    {
     "data": {
      "image/png": "[encoded data removed]",
      "text/plain": [
       "<Figure size 432x288 with 1 Axes>"
      ]
     },
     "metadata": {
      "needs_background": "light"
     },
     "output_type": "display_data"
    }
   ],
   "source": [
    "bikes_df_raw['day'] = bikes_df_raw['dteday'].apply(lambda x : x.day)\n",
    "bikes_grouped = bikes_df_raw.groupby(['year', 'month', 'day'])\n",
    "day_means = bikes_grouped.mean()\n",
    "day_maxes = bikes_grouped.max()\n",
    "day_sums = bikes_grouped.sum()\n",
    "bikes_by_day = pd.DataFrame(\n",
    "    0,\n",
    "    index= np.arange(len(day_means)),\n",
    "    columns=['dteday', 'weekday', 'weather', 'season', 'temp', 'atemp', 'windspeed', 'hum', 'casual', 'registered', 'counts']\n",
    ")\n",
    "bikes_by_day = bikes_by_day.astype(\n",
    "    {\n",
    "        'dteday': 'datetime64[ns]',\n",
    "        'weekday': 'int64',\n",
    "        'weather': 'int64',\n",
    "        'season': 'int64',\n",
    "        'temp': 'float64',\n",
    "        'atemp': 'float64',\n",
    "        'windspeed': 'float64',\n",
    "        'hum': 'float64',\n",
    "        'casual': 'int64',\n",
    "        'registered': 'int64',\n",
    "        'counts': 'int64'\n",
    "    }\n",
    ")\n",
    "\n",
    "def get_timestamp_at_noon(timestamp):\n",
    "    return pd.Timestamp(timestamp.year, timestamp.month, timestamp.day, 12)\n",
    "for x in ['weekday', 'season', 'temp', 'atemp', 'windspeed', 'hum']:\n",
    "    bikes_by_day[x] = day_means[x].values\n",
    "for x in ['dteday', 'weather']:\n",
    "    bikes_by_day[x] = day_maxes[x].values\n",
    "for x in ['casual', 'registered', 'counts']:\n",
    "    bikes_by_day[x] = day_sums[x].values\n",
    "bikes_by_day['dteday'] = bikes_by_day['dteday'].apply(lambda x : get_timestamp_at_noon(x)).values\n",
    "\n",
    "# SRC: https://matplotlib.org/3.1.1/gallery/lines_bars_and_markers/barchart.html#sphx-glr-gallery-lines-bars-and-markers-barchart-py\n",
    "weekday_bikes_by_day = bikes_by_day.groupby('weekday').sum()\n",
    "days_of_week = ['Sun', 'Mon', 'Tue', 'Wed', 'Thu', 'Fri', 'Sat']\n",
    "x = np.arange(len(days_of_week))\n",
    "width = 0.5\n",
    "fig, ax = plt.subplots()\n",
    "rects1 = ax.bar(x - width/2, weekday_bikes_by_day['casual'], width, label='Casual')\n",
    "rects2 = ax.bar(x + width/2, weekday_bikes_by_day['registered'], width, label='Registered')\n",
    "ax.set_title('Rides by Day')\n",
    "ax.set_xticklabels(days_of_week)\n",
    "ax.set_xticks(x)\n",
    "ax.set_ylabel('Rides')\n",
    "ax.legend()\n",
    "plt.show()"
   ]
  },
  {
   "cell_type": "markdown",
   "metadata": {
    "button": false,
    "new_sheet": false,
    "run_control": {
     "read_only": false
    }
   },
   "source": [
    "**2.2 Use `bikes_by_day` to visualize how the distribution...**"
   ]
  },
  {
   "cell_type": "code",
   "execution_count": 7,
   "metadata": {
    "button": false,
    "new_sheet": false,
    "run_control": {
     "read_only": false
    }
   },
   "outputs": [
    {
     "data": {
      "image/png": "[encoded data removed]",
      "text/plain": [
       "<Figure size 432x288 with 1 Axes>"
      ]
     },
     "metadata": {
      "needs_background": "light"
     },
     "output_type": "display_data"
    },
    {
     "name": "stdout",
     "output_type": "stream",
     "text": [
      "441   2012-03-17 12:00:00\n",
      "Name: dteday, dtype: datetime64[ns]\n",
      "667   2012-10-29 12:00:00\n",
      "Name: dteday, dtype: datetime64[ns]\n"
     ]
    }
   ],
   "source": [
    "fig, ax = plt.subplots()\n",
    "season_bikes_by_day = []\n",
    "for x in range(1,5):\n",
    "    season_bikes = bikes_by_day.loc[bikes_by_day['season']==x]['counts']\n",
    "    season_bikes_by_day.append(season_bikes)\n",
    "\n",
    "seasons = ['Winter', 'Spring', 'Summer', 'Fall']\n",
    "results = ax.boxplot(season_bikes_by_day, labels=seasons)\n",
    "plt.show()\n",
    "\n",
    "outliers = results['fliers']\n",
    "winter_outlier_val = outliers[0].get_data()[1][0]\n",
    "fall_outlier_val = outliers[3].get_data()[1][0]\n",
    "\n",
    "print((bikes_by_day.loc[bikes_by_day['counts']==winter_outlier_val])['dteday']) # Outlier: St. Patrick's Day\n",
    "print((bikes_by_day.loc[bikes_by_day['counts']==fall_outlier_val])['dteday']) # Outlier: Hurricane Sandy "
   ]
  },
  {
   "cell_type": "markdown",
   "metadata": {
    "button": false,
    "new_sheet": false,
    "run_control": {
     "read_only": false
    }
   },
   "source": [
    "**2.3 Convert the categorical attributes...**"
   ]
  },
  {
   "cell_type": "code",
   "execution_count": 8,
   "metadata": {
    "button": false,
    "new_sheet": false,
    "run_control": {
     "read_only": false
    }
   },
   "outputs": [
    {
     "data": {
      "text/html": [
       "<div>\n",
       "<style scoped>\n",
       "    .dataframe tbody tr th:only-of-type {\n",
       "        vertical-align: middle;\n",
       "    }\n",
       "\n",
       "    .dataframe tbody tr th {\n",
       "        vertical-align: top;\n",
       "    }\n",
       "\n",
       "    .dataframe thead th {\n",
       "        text-align: right;\n",
       "    }\n",
       "</style>\n",
       "<table border=\"1\" class=\"dataframe\">\n",
       "  <thead>\n",
       "    <tr style=\"text-align: right;\">\n",
       "      <th></th>\n",
       "      <th>weekday</th>\n",
       "      <th>weather</th>\n",
       "      <th>season</th>\n",
       "      <th>temp</th>\n",
       "      <th>atemp</th>\n",
       "      <th>windspeed</th>\n",
       "      <th>hum</th>\n",
       "      <th>casual</th>\n",
       "      <th>registered</th>\n",
       "      <th>counts</th>\n",
       "      <th>...</th>\n",
       "      <th>weekday_1.0</th>\n",
       "      <th>weekday_2.0</th>\n",
       "      <th>weekday_3.0</th>\n",
       "      <th>weekday_4.0</th>\n",
       "      <th>weekday_5.0</th>\n",
       "      <th>weekday_6.0</th>\n",
       "      <th>weather_1</th>\n",
       "      <th>weather_2</th>\n",
       "      <th>weather_3</th>\n",
       "      <th>weather_4</th>\n",
       "    </tr>\n",
       "  </thead>\n",
       "  <tbody>\n",
       "    <tr>\n",
       "      <th>count</th>\n",
       "      <td>731.000000</td>\n",
       "      <td>731.000000</td>\n",
       "      <td>731.000000</td>\n",
       "      <td>731.000000</td>\n",
       "      <td>731.000000</td>\n",
       "      <td>731.000000</td>\n",
       "      <td>731.000000</td>\n",
       "      <td>731.000000</td>\n",
       "      <td>731.000000</td>\n",
       "      <td>731.000000</td>\n",
       "      <td>...</td>\n",
       "      <td>731.000000</td>\n",
       "      <td>731.000000</td>\n",
       "      <td>731.000000</td>\n",
       "      <td>731.000000</td>\n",
       "      <td>731.000000</td>\n",
       "      <td>731.000000</td>\n",
       "      <td>731.000000</td>\n",
       "      <td>731.000000</td>\n",
       "      <td>731.000000</td>\n",
       "      <td>731.000000</td>\n",
       "    </tr>\n",
       "    <tr>\n",
       "      <th>mean</th>\n",
       "      <td>2.997264</td>\n",
       "      <td>2.207934</td>\n",
       "      <td>2.496580</td>\n",
       "      <td>0.495385</td>\n",
       "      <td>0.474354</td>\n",
       "      <td>0.190486</td>\n",
       "      <td>0.627894</td>\n",
       "      <td>848.176471</td>\n",
       "      <td>3656.172367</td>\n",
       "      <td>4504.348837</td>\n",
       "      <td>...</td>\n",
       "      <td>0.143639</td>\n",
       "      <td>0.142271</td>\n",
       "      <td>0.142271</td>\n",
       "      <td>0.142271</td>\n",
       "      <td>0.142271</td>\n",
       "      <td>0.143639</td>\n",
       "      <td>0.206566</td>\n",
       "      <td>0.383037</td>\n",
       "      <td>0.406293</td>\n",
       "      <td>0.004104</td>\n",
       "    </tr>\n",
       "    <tr>\n",
       "      <th>std</th>\n",
       "      <td>2.004787</td>\n",
       "      <td>0.766056</td>\n",
       "      <td>1.110807</td>\n",
       "      <td>0.183051</td>\n",
       "      <td>0.162961</td>\n",
       "      <td>0.077498</td>\n",
       "      <td>0.142429</td>\n",
       "      <td>686.622488</td>\n",
       "      <td>1560.256377</td>\n",
       "      <td>1937.211452</td>\n",
       "      <td>...</td>\n",
       "      <td>0.350963</td>\n",
       "      <td>0.349567</td>\n",
       "      <td>0.349567</td>\n",
       "      <td>0.349567</td>\n",
       "      <td>0.349567</td>\n",
       "      <td>0.350963</td>\n",
       "      <td>0.405119</td>\n",
       "      <td>0.486460</td>\n",
       "      <td>0.491477</td>\n",
       "      <td>0.063974</td>\n",
       "    </tr>\n",
       "    <tr>\n",
       "      <th>min</th>\n",
       "      <td>0.000000</td>\n",
       "      <td>1.000000</td>\n",
       "      <td>1.000000</td>\n",
       "      <td>0.059130</td>\n",
       "      <td>0.079070</td>\n",
       "      <td>0.022392</td>\n",
       "      <td>0.000000</td>\n",
       "      <td>2.000000</td>\n",
       "      <td>20.000000</td>\n",
       "      <td>22.000000</td>\n",
       "      <td>...</td>\n",
       "      <td>0.000000</td>\n",
       "      <td>0.000000</td>\n",
       "      <td>0.000000</td>\n",
       "      <td>0.000000</td>\n",
       "      <td>0.000000</td>\n",
       "      <td>0.000000</td>\n",
       "      <td>0.000000</td>\n",
       "      <td>0.000000</td>\n",
       "      <td>0.000000</td>\n",
       "      <td>0.000000</td>\n",
       "    </tr>\n",
       "    <tr>\n",
       "      <th>25%</th>\n",
       "      <td>1.000000</td>\n",
       "      <td>2.000000</td>\n",
       "      <td>2.000000</td>\n",
       "      <td>0.337083</td>\n",
       "      <td>0.337842</td>\n",
       "      <td>0.134950</td>\n",
       "      <td>0.520000</td>\n",
       "      <td>315.500000</td>\n",
       "      <td>2497.000000</td>\n",
       "      <td>3152.000000</td>\n",
       "      <td>...</td>\n",
       "      <td>0.000000</td>\n",
       "      <td>0.000000</td>\n",
       "      <td>0.000000</td>\n",
       "      <td>0.000000</td>\n",
       "      <td>0.000000</td>\n",
       "      <td>0.000000</td>\n",
       "      <td>0.000000</td>\n",
       "      <td>0.000000</td>\n",
       "      <td>0.000000</td>\n",
       "      <td>0.000000</td>\n",
       "    </tr>\n",
       "    <tr>\n",
       "      <th>50%</th>\n",
       "      <td>3.000000</td>\n",
       "      <td>2.000000</td>\n",
       "      <td>3.000000</td>\n",
       "      <td>0.498333</td>\n",
       "      <td>0.486733</td>\n",
       "      <td>0.180975</td>\n",
       "      <td>0.626667</td>\n",
       "      <td>713.000000</td>\n",
       "      <td>3662.000000</td>\n",
       "      <td>4548.000000</td>\n",
       "      <td>...</td>\n",
       "      <td>0.000000</td>\n",
       "      <td>0.000000</td>\n",
       "      <td>0.000000</td>\n",
       "      <td>0.000000</td>\n",
       "      <td>0.000000</td>\n",
       "      <td>0.000000</td>\n",
       "      <td>0.000000</td>\n",
       "      <td>0.000000</td>\n",
       "      <td>0.000000</td>\n",
       "      <td>0.000000</td>\n",
       "    </tr>\n",
       "    <tr>\n",
       "      <th>75%</th>\n",
       "      <td>5.000000</td>\n",
       "      <td>3.000000</td>\n",
       "      <td>3.000000</td>\n",
       "      <td>0.655417</td>\n",
       "      <td>0.608602</td>\n",
       "      <td>0.233215</td>\n",
       "      <td>0.730208</td>\n",
       "      <td>1096.000000</td>\n",
       "      <td>4776.500000</td>\n",
       "      <td>5956.000000</td>\n",
       "      <td>...</td>\n",
       "      <td>0.000000</td>\n",
       "      <td>0.000000</td>\n",
       "      <td>0.000000</td>\n",
       "      <td>0.000000</td>\n",
       "      <td>0.000000</td>\n",
       "      <td>0.000000</td>\n",
       "      <td>0.000000</td>\n",
       "      <td>1.000000</td>\n",
       "      <td>1.000000</td>\n",
       "      <td>0.000000</td>\n",
       "    </tr>\n",
       "    <tr>\n",
       "      <th>max</th>\n",
       "      <td>6.000000</td>\n",
       "      <td>4.000000</td>\n",
       "      <td>4.000000</td>\n",
       "      <td>0.861667</td>\n",
       "      <td>0.840896</td>\n",
       "      <td>0.507463</td>\n",
       "      <td>0.972500</td>\n",
       "      <td>3410.000000</td>\n",
       "      <td>6946.000000</td>\n",
       "      <td>8714.000000</td>\n",
       "      <td>...</td>\n",
       "      <td>1.000000</td>\n",
       "      <td>1.000000</td>\n",
       "      <td>1.000000</td>\n",
       "      <td>1.000000</td>\n",
       "      <td>1.000000</td>\n",
       "      <td>1.000000</td>\n",
       "      <td>1.000000</td>\n",
       "      <td>1.000000</td>\n",
       "      <td>1.000000</td>\n",
       "      <td>1.000000</td>\n",
       "    </tr>\n",
       "  </tbody>\n",
       "</table>\n",
       "<p>8 rows × 38 columns</p>\n",
       "</div>"
      ],
      "text/plain": [
       "          weekday     weather      season        temp       atemp   windspeed  \\\n",
       "count  731.000000  731.000000  731.000000  731.000000  731.000000  731.000000   \n",
       "mean     2.997264    2.207934    2.496580    0.495385    0.474354    0.190486   \n",
       "std      2.004787    0.766056    1.110807    0.183051    0.162961    0.077498   \n",
       "min      0.000000    1.000000    1.000000    0.059130    0.079070    0.022392   \n",
       "25%      1.000000    2.000000    2.000000    0.337083    0.337842    0.134950   \n",
       "50%      3.000000    2.000000    3.000000    0.498333    0.486733    0.180975   \n",
       "75%      5.000000    3.000000    3.000000    0.655417    0.608602    0.233215   \n",
       "max      6.000000    4.000000    4.000000    0.861667    0.840896    0.507463   \n",
       "\n",
       "              hum       casual   registered       counts  ...  weekday_1.0  \\\n",
       "count  731.000000   731.000000   731.000000   731.000000  ...   731.000000   \n",
       "mean     0.627894   848.176471  3656.172367  4504.348837  ...     0.143639   \n",
       "std      0.142429   686.622488  1560.256377  1937.211452  ...     0.350963   \n",
       "min      0.000000     2.000000    20.000000    22.000000  ...     0.000000   \n",
       "25%      0.520000   315.500000  2497.000000  3152.000000  ...     0.000000   \n",
       "50%      0.626667   713.000000  3662.000000  4548.000000  ...     0.000000   \n",
       "75%      0.730208  1096.000000  4776.500000  5956.000000  ...     0.000000   \n",
       "max      0.972500  3410.000000  6946.000000  8714.000000  ...     1.000000   \n",
       "\n",
       "       weekday_2.0  weekday_3.0  weekday_4.0  weekday_5.0  weekday_6.0  \\\n",
       "count   731.000000   731.000000   731.000000   731.000000   731.000000   \n",
       "mean      0.142271     0.142271     0.142271     0.142271     0.143639   \n",
       "std       0.349567     0.349567     0.349567     0.349567     0.350963   \n",
       "min       0.000000     0.000000     0.000000     0.000000     0.000000   \n",
       "25%       0.000000     0.000000     0.000000     0.000000     0.000000   \n",
       "50%       0.000000     0.000000     0.000000     0.000000     0.000000   \n",
       "75%       0.000000     0.000000     0.000000     0.000000     0.000000   \n",
       "max       1.000000     1.000000     1.000000     1.000000     1.000000   \n",
       "\n",
       "        weather_1   weather_2   weather_3   weather_4  \n",
       "count  731.000000  731.000000  731.000000  731.000000  \n",
       "mean     0.206566    0.383037    0.406293    0.004104  \n",
       "std      0.405119    0.486460    0.491477    0.063974  \n",
       "min      0.000000    0.000000    0.000000    0.000000  \n",
       "25%      0.000000    0.000000    0.000000    0.000000  \n",
       "50%      0.000000    0.000000    0.000000    0.000000  \n",
       "75%      0.000000    1.000000    1.000000    0.000000  \n",
       "max      1.000000    1.000000    1.000000    1.000000  \n",
       "\n",
       "[8 rows x 38 columns]"
      ]
     },
     "execution_count": 8,
     "metadata": {},
     "output_type": "execute_result"
    }
   ],
   "source": [
    "bikes_df = pd.DataFrame(bikes_by_day)\n",
    "def dummify(src, tgt, var):\n",
    "    dummies = pd.get_dummies(src[var], prefix=var)\n",
    "    for x in dummies.columns.values:\n",
    "        tgt[x] = dummies[x]\n",
    "bikes_by_day['month'] = bikes_by_day['dteday'].apply(lambda x : x.month).values\n",
    "dummify(bikes_by_day, bikes_df, 'season')\n",
    "dummify(bikes_by_day, bikes_df, 'month')\n",
    "dummify(bikes_by_day, bikes_df, 'weekday')\n",
    "dummify(bikes_by_day, bikes_df, 'weather')\n",
    "bikes_by_day.describe()"
   ]
  },
  {
   "cell_type": "markdown",
   "metadata": {
    "button": false,
    "new_sheet": false,
    "run_control": {
     "read_only": false
    }
   },
   "source": [
    "**2.4 Split the updated `bikes_df` dataset into a 50-50 train-test split...** "
   ]
  },
  {
   "cell_type": "code",
   "execution_count": 9,
   "metadata": {
    "button": false,
    "new_sheet": false,
    "run_control": {
     "read_only": false
    }
   },
   "outputs": [
    {
     "data": {
      "text/html": [
       "<div>\n",
       "<style scoped>\n",
       "    .dataframe tbody tr th:only-of-type {\n",
       "        vertical-align: middle;\n",
       "    }\n",
       "\n",
       "    .dataframe tbody tr th {\n",
       "        vertical-align: top;\n",
       "    }\n",
       "\n",
       "    .dataframe thead th {\n",
       "        text-align: right;\n",
       "    }\n",
       "</style>\n",
       "<table border=\"1\" class=\"dataframe\">\n",
       "  <thead>\n",
       "    <tr style=\"text-align: right;\">\n",
       "      <th></th>\n",
       "      <th>atemp</th>\n",
       "      <th>counts</th>\n",
       "      <th>hum</th>\n",
       "      <th>month</th>\n",
       "      <th>month_1</th>\n",
       "      <th>month_10</th>\n",
       "      <th>month_11</th>\n",
       "      <th>month_12</th>\n",
       "      <th>month_2</th>\n",
       "      <th>month_3</th>\n",
       "      <th>...</th>\n",
       "      <th>weather_4</th>\n",
       "      <th>weekday</th>\n",
       "      <th>weekday_0.0</th>\n",
       "      <th>weekday_1.0</th>\n",
       "      <th>weekday_2.0</th>\n",
       "      <th>weekday_3.0</th>\n",
       "      <th>weekday_4.0</th>\n",
       "      <th>weekday_5.0</th>\n",
       "      <th>weekday_6.0</th>\n",
       "      <th>windspeed</th>\n",
       "    </tr>\n",
       "  </thead>\n",
       "  <tbody>\n",
       "    <tr>\n",
       "      <th>count</th>\n",
       "      <td>365.000000</td>\n",
       "      <td>365.000000</td>\n",
       "      <td>365.000000</td>\n",
       "      <td>365.000000</td>\n",
       "      <td>365.000000</td>\n",
       "      <td>365.000000</td>\n",
       "      <td>365.000000</td>\n",
       "      <td>365.000000</td>\n",
       "      <td>365.000000</td>\n",
       "      <td>365.000000</td>\n",
       "      <td>...</td>\n",
       "      <td>365.000000</td>\n",
       "      <td>365.000000</td>\n",
       "      <td>365.000000</td>\n",
       "      <td>365.000000</td>\n",
       "      <td>365.000000</td>\n",
       "      <td>365.000000</td>\n",
       "      <td>365.000000</td>\n",
       "      <td>365.000000</td>\n",
       "      <td>365.000000</td>\n",
       "      <td>365.000000</td>\n",
       "    </tr>\n",
       "    <tr>\n",
       "      <th>mean</th>\n",
       "      <td>0.473889</td>\n",
       "      <td>4507.958904</td>\n",
       "      <td>0.623392</td>\n",
       "      <td>6.526027</td>\n",
       "      <td>0.084932</td>\n",
       "      <td>0.084932</td>\n",
       "      <td>0.082192</td>\n",
       "      <td>0.084932</td>\n",
       "      <td>0.076712</td>\n",
       "      <td>0.084932</td>\n",
       "      <td>...</td>\n",
       "      <td>0.005479</td>\n",
       "      <td>2.991781</td>\n",
       "      <td>0.147945</td>\n",
       "      <td>0.134247</td>\n",
       "      <td>0.136986</td>\n",
       "      <td>0.161644</td>\n",
       "      <td>0.142466</td>\n",
       "      <td>0.131507</td>\n",
       "      <td>0.145205</td>\n",
       "      <td>0.189920</td>\n",
       "    </tr>\n",
       "    <tr>\n",
       "      <th>std</th>\n",
       "      <td>0.157732</td>\n",
       "      <td>1909.999918</td>\n",
       "      <td>0.144771</td>\n",
       "      <td>3.452584</td>\n",
       "      <td>0.279162</td>\n",
       "      <td>0.279162</td>\n",
       "      <td>0.275034</td>\n",
       "      <td>0.279162</td>\n",
       "      <td>0.266500</td>\n",
       "      <td>0.279162</td>\n",
       "      <td>...</td>\n",
       "      <td>0.073922</td>\n",
       "      <td>1.997922</td>\n",
       "      <td>0.355533</td>\n",
       "      <td>0.341385</td>\n",
       "      <td>0.344305</td>\n",
       "      <td>0.368629</td>\n",
       "      <td>0.350007</td>\n",
       "      <td>0.338418</td>\n",
       "      <td>0.352791</td>\n",
       "      <td>0.079867</td>\n",
       "    </tr>\n",
       "    <tr>\n",
       "      <th>min</th>\n",
       "      <td>0.079070</td>\n",
       "      <td>506.000000</td>\n",
       "      <td>0.000000</td>\n",
       "      <td>1.000000</td>\n",
       "      <td>0.000000</td>\n",
       "      <td>0.000000</td>\n",
       "      <td>0.000000</td>\n",
       "      <td>0.000000</td>\n",
       "      <td>0.000000</td>\n",
       "      <td>0.000000</td>\n",
       "      <td>...</td>\n",
       "      <td>0.000000</td>\n",
       "      <td>0.000000</td>\n",
       "      <td>0.000000</td>\n",
       "      <td>0.000000</td>\n",
       "      <td>0.000000</td>\n",
       "      <td>0.000000</td>\n",
       "      <td>0.000000</td>\n",
       "      <td>0.000000</td>\n",
       "      <td>0.000000</td>\n",
       "      <td>0.042304</td>\n",
       "    </tr>\n",
       "    <tr>\n",
       "      <th>25%</th>\n",
       "      <td>0.342162</td>\n",
       "      <td>3194.000000</td>\n",
       "      <td>0.522083</td>\n",
       "      <td>4.000000</td>\n",
       "      <td>0.000000</td>\n",
       "      <td>0.000000</td>\n",
       "      <td>0.000000</td>\n",
       "      <td>0.000000</td>\n",
       "      <td>0.000000</td>\n",
       "      <td>0.000000</td>\n",
       "      <td>...</td>\n",
       "      <td>0.000000</td>\n",
       "      <td>1.000000</td>\n",
       "      <td>0.000000</td>\n",
       "      <td>0.000000</td>\n",
       "      <td>0.000000</td>\n",
       "      <td>0.000000</td>\n",
       "      <td>0.000000</td>\n",
       "      <td>0.000000</td>\n",
       "      <td>0.000000</td>\n",
       "      <td>0.133100</td>\n",
       "    </tr>\n",
       "    <tr>\n",
       "      <th>50%</th>\n",
       "      <td>0.480425</td>\n",
       "      <td>4539.000000</td>\n",
       "      <td>0.621250</td>\n",
       "      <td>7.000000</td>\n",
       "      <td>0.000000</td>\n",
       "      <td>0.000000</td>\n",
       "      <td>0.000000</td>\n",
       "      <td>0.000000</td>\n",
       "      <td>0.000000</td>\n",
       "      <td>0.000000</td>\n",
       "      <td>...</td>\n",
       "      <td>0.000000</td>\n",
       "      <td>3.000000</td>\n",
       "      <td>0.000000</td>\n",
       "      <td>0.000000</td>\n",
       "      <td>0.000000</td>\n",
       "      <td>0.000000</td>\n",
       "      <td>0.000000</td>\n",
       "      <td>0.000000</td>\n",
       "      <td>0.000000</td>\n",
       "      <td>0.177867</td>\n",
       "    </tr>\n",
       "    <tr>\n",
       "      <th>75%</th>\n",
       "      <td>0.607975</td>\n",
       "      <td>5847.000000</td>\n",
       "      <td>0.722174</td>\n",
       "      <td>10.000000</td>\n",
       "      <td>0.000000</td>\n",
       "      <td>0.000000</td>\n",
       "      <td>0.000000</td>\n",
       "      <td>0.000000</td>\n",
       "      <td>0.000000</td>\n",
       "      <td>0.000000</td>\n",
       "      <td>...</td>\n",
       "      <td>0.000000</td>\n",
       "      <td>5.000000</td>\n",
       "      <td>0.000000</td>\n",
       "      <td>0.000000</td>\n",
       "      <td>0.000000</td>\n",
       "      <td>0.000000</td>\n",
       "      <td>0.000000</td>\n",
       "      <td>0.000000</td>\n",
       "      <td>0.000000</td>\n",
       "      <td>0.233221</td>\n",
       "    </tr>\n",
       "    <tr>\n",
       "      <th>max</th>\n",
       "      <td>0.840896</td>\n",
       "      <td>8714.000000</td>\n",
       "      <td>0.972500</td>\n",
       "      <td>12.000000</td>\n",
       "      <td>1.000000</td>\n",
       "      <td>1.000000</td>\n",
       "      <td>1.000000</td>\n",
       "      <td>1.000000</td>\n",
       "      <td>1.000000</td>\n",
       "      <td>1.000000</td>\n",
       "      <td>...</td>\n",
       "      <td>1.000000</td>\n",
       "      <td>6.000000</td>\n",
       "      <td>1.000000</td>\n",
       "      <td>1.000000</td>\n",
       "      <td>1.000000</td>\n",
       "      <td>1.000000</td>\n",
       "      <td>1.000000</td>\n",
       "      <td>1.000000</td>\n",
       "      <td>1.000000</td>\n",
       "      <td>0.507463</td>\n",
       "    </tr>\n",
       "  </tbody>\n",
       "</table>\n",
       "<p>8 rows × 36 columns</p>\n",
       "</div>"
      ],
      "text/plain": [
       "            atemp       counts         hum       month     month_1  \\\n",
       "count  365.000000   365.000000  365.000000  365.000000  365.000000   \n",
       "mean     0.473889  4507.958904    0.623392    6.526027    0.084932   \n",
       "std      0.157732  1909.999918    0.144771    3.452584    0.279162   \n",
       "min      0.079070   506.000000    0.000000    1.000000    0.000000   \n",
       "25%      0.342162  3194.000000    0.522083    4.000000    0.000000   \n",
       "50%      0.480425  4539.000000    0.621250    7.000000    0.000000   \n",
       "75%      0.607975  5847.000000    0.722174   10.000000    0.000000   \n",
       "max      0.840896  8714.000000    0.972500   12.000000    1.000000   \n",
       "\n",
       "         month_10    month_11    month_12     month_2     month_3  ...  \\\n",
       "count  365.000000  365.000000  365.000000  365.000000  365.000000  ...   \n",
       "mean     0.084932    0.082192    0.084932    0.076712    0.084932  ...   \n",
       "std      0.279162    0.275034    0.279162    0.266500    0.279162  ...   \n",
       "min      0.000000    0.000000    0.000000    0.000000    0.000000  ...   \n",
       "25%      0.000000    0.000000    0.000000    0.000000    0.000000  ...   \n",
       "50%      0.000000    0.000000    0.000000    0.000000    0.000000  ...   \n",
       "75%      0.000000    0.000000    0.000000    0.000000    0.000000  ...   \n",
       "max      1.000000    1.000000    1.000000    1.000000    1.000000  ...   \n",
       "\n",
       "        weather_4     weekday  weekday_0.0  weekday_1.0  weekday_2.0  \\\n",
       "count  365.000000  365.000000   365.000000   365.000000   365.000000   \n",
       "mean     0.005479    2.991781     0.147945     0.134247     0.136986   \n",
       "std      0.073922    1.997922     0.355533     0.341385     0.344305   \n",
       "min      0.000000    0.000000     0.000000     0.000000     0.000000   \n",
       "25%      0.000000    1.000000     0.000000     0.000000     0.000000   \n",
       "50%      0.000000    3.000000     0.000000     0.000000     0.000000   \n",
       "75%      0.000000    5.000000     0.000000     0.000000     0.000000   \n",
       "max      1.000000    6.000000     1.000000     1.000000     1.000000   \n",
       "\n",
       "       weekday_3.0  weekday_4.0  weekday_5.0  weekday_6.0   windspeed  \n",
       "count   365.000000   365.000000   365.000000   365.000000  365.000000  \n",
       "mean      0.161644     0.142466     0.131507     0.145205    0.189920  \n",
       "std       0.368629     0.350007     0.338418     0.352791    0.079867  \n",
       "min       0.000000     0.000000     0.000000     0.000000    0.042304  \n",
       "25%       0.000000     0.000000     0.000000     0.000000    0.133100  \n",
       "50%       0.000000     0.000000     0.000000     0.000000    0.177867  \n",
       "75%       0.000000     0.000000     0.000000     0.000000    0.233221  \n",
       "max       1.000000     1.000000     1.000000     1.000000    0.507463  \n",
       "\n",
       "[8 rows x 36 columns]"
      ]
     },
     "execution_count": 9,
     "metadata": {},
     "output_type": "execute_result"
    }
   ],
   "source": [
    "# SRC: https://stackoverflow.com/questions/36997619/sklearn-stratified-sampling-based-on-a-column\n",
    "\n",
    "X = bikes_df[bikes_df.columns.difference(['count', 'registered', 'casual'])]\n",
    "y = bikes_df['counts']\n",
    "bikes_train, bikes_test, y_train, y_test = train_test_split(X, y, test_size=0.5, stratify=X['month'].values, random_state=90)\n",
    "bikes_train.describe()"
   ]
  },
  {
   "cell_type": "markdown",
   "metadata": {
    "button": false,
    "new_sheet": false,
    "run_control": {
     "read_only": false
    }
   },
   "source": [
    "**2.5 Although we asked you to create your train and test set...**"
   ]
  },
  {
   "cell_type": "code",
   "execution_count": 10,
   "metadata": {
    "button": false,
    "new_sheet": false,
    "run_control": {
     "read_only": false
    }
   },
   "outputs": [
    {
     "data": {
      "text/html": [
       "<div>\n",
       "<style scoped>\n",
       "    .dataframe tbody tr th:only-of-type {\n",
       "        vertical-align: middle;\n",
       "    }\n",
       "\n",
       "    .dataframe tbody tr th {\n",
       "        vertical-align: top;\n",
       "    }\n",
       "\n",
       "    .dataframe thead th {\n",
       "        text-align: right;\n",
       "    }\n",
       "</style>\n",
       "<table border=\"1\" class=\"dataframe\">\n",
       "  <thead>\n",
       "    <tr style=\"text-align: right;\">\n",
       "      <th></th>\n",
       "      <th>hour</th>\n",
       "      <th>holiday</th>\n",
       "      <th>year</th>\n",
       "      <th>workingday</th>\n",
       "      <th>temp</th>\n",
       "      <th>atemp</th>\n",
       "      <th>hum</th>\n",
       "      <th>windspeed</th>\n",
       "      <th>casual</th>\n",
       "      <th>registered</th>\n",
       "      <th>...</th>\n",
       "      <th>Dec</th>\n",
       "      <th>Mon</th>\n",
       "      <th>Tue</th>\n",
       "      <th>Wed</th>\n",
       "      <th>Thu</th>\n",
       "      <th>Fri</th>\n",
       "      <th>Sat</th>\n",
       "      <th>Cloudy</th>\n",
       "      <th>Snow</th>\n",
       "      <th>Storm</th>\n",
       "    </tr>\n",
       "  </thead>\n",
       "  <tbody>\n",
       "    <tr>\n",
       "      <th>count</th>\n",
       "      <td>8689.000000</td>\n",
       "      <td>8689.000000</td>\n",
       "      <td>8689.000000</td>\n",
       "      <td>8689.000000</td>\n",
       "      <td>8689.000000</td>\n",
       "      <td>8689.000000</td>\n",
       "      <td>8689.000000</td>\n",
       "      <td>8689.000000</td>\n",
       "      <td>8689.000000</td>\n",
       "      <td>8689.000000</td>\n",
       "      <td>...</td>\n",
       "      <td>8689.000000</td>\n",
       "      <td>8689.000000</td>\n",
       "      <td>8689.000000</td>\n",
       "      <td>8689.000000</td>\n",
       "      <td>8689.000000</td>\n",
       "      <td>8689.000000</td>\n",
       "      <td>8689.000000</td>\n",
       "      <td>8689.000000</td>\n",
       "      <td>8689.000000</td>\n",
       "      <td>8689.000000</td>\n",
       "    </tr>\n",
       "    <tr>\n",
       "      <th>mean</th>\n",
       "      <td>11.597537</td>\n",
       "      <td>0.029347</td>\n",
       "      <td>0.503395</td>\n",
       "      <td>0.683048</td>\n",
       "      <td>0.496405</td>\n",
       "      <td>0.475399</td>\n",
       "      <td>0.625256</td>\n",
       "      <td>0.190616</td>\n",
       "      <td>35.847623</td>\n",
       "      <td>154.533893</td>\n",
       "      <td>...</td>\n",
       "      <td>0.085280</td>\n",
       "      <td>0.144205</td>\n",
       "      <td>0.137875</td>\n",
       "      <td>0.141788</td>\n",
       "      <td>0.144551</td>\n",
       "      <td>0.143975</td>\n",
       "      <td>0.146047</td>\n",
       "      <td>0.257567</td>\n",
       "      <td>0.083324</td>\n",
       "      <td>0.000230</td>\n",
       "    </tr>\n",
       "    <tr>\n",
       "      <th>std</th>\n",
       "      <td>6.960206</td>\n",
       "      <td>0.168788</td>\n",
       "      <td>0.500017</td>\n",
       "      <td>0.465316</td>\n",
       "      <td>0.192561</td>\n",
       "      <td>0.171993</td>\n",
       "      <td>0.192281</td>\n",
       "      <td>0.123252</td>\n",
       "      <td>49.616000</td>\n",
       "      <td>151.500926</td>\n",
       "      <td>...</td>\n",
       "      <td>0.279314</td>\n",
       "      <td>0.351318</td>\n",
       "      <td>0.344789</td>\n",
       "      <td>0.348853</td>\n",
       "      <td>0.351667</td>\n",
       "      <td>0.351085</td>\n",
       "      <td>0.353173</td>\n",
       "      <td>0.437319</td>\n",
       "      <td>0.276387</td>\n",
       "      <td>0.015171</td>\n",
       "    </tr>\n",
       "    <tr>\n",
       "      <th>min</th>\n",
       "      <td>0.000000</td>\n",
       "      <td>0.000000</td>\n",
       "      <td>0.000000</td>\n",
       "      <td>0.000000</td>\n",
       "      <td>0.020000</td>\n",
       "      <td>0.000000</td>\n",
       "      <td>0.000000</td>\n",
       "      <td>0.000000</td>\n",
       "      <td>0.000000</td>\n",
       "      <td>0.000000</td>\n",
       "      <td>...</td>\n",
       "      <td>0.000000</td>\n",
       "      <td>0.000000</td>\n",
       "      <td>0.000000</td>\n",
       "      <td>0.000000</td>\n",
       "      <td>0.000000</td>\n",
       "      <td>0.000000</td>\n",
       "      <td>0.000000</td>\n",
       "      <td>0.000000</td>\n",
       "      <td>0.000000</td>\n",
       "      <td>0.000000</td>\n",
       "    </tr>\n",
       "    <tr>\n",
       "      <th>25%</th>\n",
       "      <td>6.000000</td>\n",
       "      <td>0.000000</td>\n",
       "      <td>0.000000</td>\n",
       "      <td>0.000000</td>\n",
       "      <td>0.340000</td>\n",
       "      <td>0.333300</td>\n",
       "      <td>0.480000</td>\n",
       "      <td>0.104500</td>\n",
       "      <td>4.000000</td>\n",
       "      <td>34.000000</td>\n",
       "      <td>...</td>\n",
       "      <td>0.000000</td>\n",
       "      <td>0.000000</td>\n",
       "      <td>0.000000</td>\n",
       "      <td>0.000000</td>\n",
       "      <td>0.000000</td>\n",
       "      <td>0.000000</td>\n",
       "      <td>0.000000</td>\n",
       "      <td>0.000000</td>\n",
       "      <td>0.000000</td>\n",
       "      <td>0.000000</td>\n",
       "    </tr>\n",
       "    <tr>\n",
       "      <th>50%</th>\n",
       "      <td>12.000000</td>\n",
       "      <td>0.000000</td>\n",
       "      <td>1.000000</td>\n",
       "      <td>1.000000</td>\n",
       "      <td>0.500000</td>\n",
       "      <td>0.484800</td>\n",
       "      <td>0.620000</td>\n",
       "      <td>0.194000</td>\n",
       "      <td>17.000000</td>\n",
       "      <td>117.000000</td>\n",
       "      <td>...</td>\n",
       "      <td>0.000000</td>\n",
       "      <td>0.000000</td>\n",
       "      <td>0.000000</td>\n",
       "      <td>0.000000</td>\n",
       "      <td>0.000000</td>\n",
       "      <td>0.000000</td>\n",
       "      <td>0.000000</td>\n",
       "      <td>0.000000</td>\n",
       "      <td>0.000000</td>\n",
       "      <td>0.000000</td>\n",
       "    </tr>\n",
       "    <tr>\n",
       "      <th>75%</th>\n",
       "      <td>18.000000</td>\n",
       "      <td>0.000000</td>\n",
       "      <td>1.000000</td>\n",
       "      <td>1.000000</td>\n",
       "      <td>0.660000</td>\n",
       "      <td>0.621200</td>\n",
       "      <td>0.780000</td>\n",
       "      <td>0.253700</td>\n",
       "      <td>49.000000</td>\n",
       "      <td>221.000000</td>\n",
       "      <td>...</td>\n",
       "      <td>0.000000</td>\n",
       "      <td>0.000000</td>\n",
       "      <td>0.000000</td>\n",
       "      <td>0.000000</td>\n",
       "      <td>0.000000</td>\n",
       "      <td>0.000000</td>\n",
       "      <td>0.000000</td>\n",
       "      <td>1.000000</td>\n",
       "      <td>0.000000</td>\n",
       "      <td>0.000000</td>\n",
       "    </tr>\n",
       "    <tr>\n",
       "      <th>max</th>\n",
       "      <td>23.000000</td>\n",
       "      <td>1.000000</td>\n",
       "      <td>1.000000</td>\n",
       "      <td>1.000000</td>\n",
       "      <td>0.980000</td>\n",
       "      <td>0.984800</td>\n",
       "      <td>1.000000</td>\n",
       "      <td>0.850700</td>\n",
       "      <td>362.000000</td>\n",
       "      <td>886.000000</td>\n",
       "      <td>...</td>\n",
       "      <td>1.000000</td>\n",
       "      <td>1.000000</td>\n",
       "      <td>1.000000</td>\n",
       "      <td>1.000000</td>\n",
       "      <td>1.000000</td>\n",
       "      <td>1.000000</td>\n",
       "      <td>1.000000</td>\n",
       "      <td>1.000000</td>\n",
       "      <td>1.000000</td>\n",
       "      <td>1.000000</td>\n",
       "    </tr>\n",
       "  </tbody>\n",
       "</table>\n",
       "<p>8 rows × 34 columns</p>\n",
       "</div>"
      ],
      "text/plain": [
       "              hour      holiday         year   workingday         temp  \\\n",
       "count  8689.000000  8689.000000  8689.000000  8689.000000  8689.000000   \n",
       "mean     11.597537     0.029347     0.503395     0.683048     0.496405   \n",
       "std       6.960206     0.168788     0.500017     0.465316     0.192561   \n",
       "min       0.000000     0.000000     0.000000     0.000000     0.020000   \n",
       "25%       6.000000     0.000000     0.000000     0.000000     0.340000   \n",
       "50%      12.000000     0.000000     1.000000     1.000000     0.500000   \n",
       "75%      18.000000     0.000000     1.000000     1.000000     0.660000   \n",
       "max      23.000000     1.000000     1.000000     1.000000     0.980000   \n",
       "\n",
       "             atemp          hum    windspeed       casual   registered  ...  \\\n",
       "count  8689.000000  8689.000000  8689.000000  8689.000000  8689.000000  ...   \n",
       "mean      0.475399     0.625256     0.190616    35.847623   154.533893  ...   \n",
       "std       0.171993     0.192281     0.123252    49.616000   151.500926  ...   \n",
       "min       0.000000     0.000000     0.000000     0.000000     0.000000  ...   \n",
       "25%       0.333300     0.480000     0.104500     4.000000    34.000000  ...   \n",
       "50%       0.484800     0.620000     0.194000    17.000000   117.000000  ...   \n",
       "75%       0.621200     0.780000     0.253700    49.000000   221.000000  ...   \n",
       "max       0.984800     1.000000     0.850700   362.000000   886.000000  ...   \n",
       "\n",
       "               Dec          Mon          Tue          Wed          Thu  \\\n",
       "count  8689.000000  8689.000000  8689.000000  8689.000000  8689.000000   \n",
       "mean      0.085280     0.144205     0.137875     0.141788     0.144551   \n",
       "std       0.279314     0.351318     0.344789     0.348853     0.351667   \n",
       "min       0.000000     0.000000     0.000000     0.000000     0.000000   \n",
       "25%       0.000000     0.000000     0.000000     0.000000     0.000000   \n",
       "50%       0.000000     0.000000     0.000000     0.000000     0.000000   \n",
       "75%       0.000000     0.000000     0.000000     0.000000     0.000000   \n",
       "max       1.000000     1.000000     1.000000     1.000000     1.000000   \n",
       "\n",
       "               Fri          Sat       Cloudy         Snow        Storm  \n",
       "count  8689.000000  8689.000000  8689.000000  8689.000000  8689.000000  \n",
       "mean      0.143975     0.146047     0.257567     0.083324     0.000230  \n",
       "std       0.351085     0.353173     0.437319     0.276387     0.015171  \n",
       "min       0.000000     0.000000     0.000000     0.000000     0.000000  \n",
       "25%       0.000000     0.000000     0.000000     0.000000     0.000000  \n",
       "50%       0.000000     0.000000     0.000000     0.000000     0.000000  \n",
       "75%       0.000000     0.000000     1.000000     0.000000     0.000000  \n",
       "max       1.000000     1.000000     1.000000     1.000000     1.000000  \n",
       "\n",
       "[8 rows x 34 columns]"
      ]
     },
     "execution_count": 10,
     "metadata": {},
     "output_type": "execute_result"
    }
   ],
   "source": [
    "BSS_train = pd.read_csv('data/BSS_train.csv').drop(columns=['dteday'])\n",
    "BSS_test = pd.read_csv('data/BSS_test.csv').drop(columns=['dteday'])\n",
    "BSS_train.describe()"
   ]
  },
  {
   "cell_type": "markdown",
   "metadata": {
    "button": false,
    "new_sheet": false,
    "run_control": {
     "read_only": false
    }
   },
   "source": [
    "**2.6 Use pandas' `scatter_matrix` command to visualize...**"
   ]
  },
  {
   "cell_type": "code",
   "execution_count": 11,
   "metadata": {
    "button": false,
    "new_sheet": false,
    "run_control": {
     "read_only": false
    }
   },
   "outputs": [
    {
     "data": {
      "text/plain": [
       "\"\\nCounts, casual, and registered are all clearly inter-dependent (this isn't surprising as counts == registered + casual)\\nTemp and atemp are clearly interdependent (again unsurprising due to definition)\\nLooks like there are some weird outliers in temp vs. atemp. Not sure what's happening there.\\n\""
      ]
     },
     "execution_count": 11,
     "metadata": {},
     "output_type": "execute_result"
    },
    {
     "data": {
      "image/png": "[encoded data removed]",
      "text/plain": [
       "<Figure size 432x288 with 256 Axes>"
      ]
     },
     "metadata": {
      "needs_background": "light"
     },
     "output_type": "display_data"
    }
   ],
   "source": [
    "cor_columns = ['hour', 'holiday', 'temp', 'atemp',\n",
    "               'workingday', 'hum', 'windspeed',\n",
    "               'counts', 'casual', 'registered',\n",
    "               'fall', 'summer', 'spring',\n",
    "               'Snow', 'Storm', 'Cloudy']\n",
    "scatter_matrix(BSS_train[cor_columns])\n",
    "# plt.show()\n",
    "\n",
    "'''\n",
    "Counts, casual, and registered are all clearly inter-dependent (this isn't surprising as counts == registered + casual)\n",
    "Temp and atemp are clearly interdependent (again unsurprising due to definition)\n",
    "Looks like there are some weird outliers in temp vs. atemp. Not sure what's happening there.\n",
    "'''"
   ]
  },
  {
   "cell_type": "markdown",
   "metadata": {
    "button": false,
    "new_sheet": false,
    "run_control": {
     "read_only": false
    }
   },
   "source": [
    "**2.7 Make a plot showing the _average_ number of casual and registered riders...**"
   ]
  },
  {
   "cell_type": "code",
   "execution_count": 12,
   "metadata": {
    "button": false,
    "new_sheet": false,
    "run_control": {
     "read_only": false
    }
   },
   "outputs": [
    {
     "data": {
      "image/png": "[encoded data removed]",
      "text/plain": [
       "<Figure size 432x288 with 1 Axes>"
      ]
     },
     "metadata": {
      "needs_background": "light"
     },
     "output_type": "display_data"
    },
    {
     "data": {
      "text/plain": [
       "'\\nCasual riders seem to be based on daylight hours whereas registered riders seem to be using the bikes for their commute.\\nNote how registered riders spike at rush hour.\\n'"
      ]
     },
     "execution_count": 12,
     "metadata": {},
     "output_type": "execute_result"
    }
   ],
   "source": [
    "def blank_pad(series):\n",
    "    for idx in range(0,24):\n",
    "        if not idx in series.index:\n",
    "            series = series.append(pd.Series([0], index=[idx]))\n",
    "    series = series.sort_index()\n",
    "    return series\n",
    "\n",
    "def rider_bar_graph(df, ax, title):\n",
    "    casual_by_hour = df.groupby('hour').mean()['casual']\n",
    "    registered_by_hour = df.groupby('hour').mean()['registered']\n",
    "    casual_by_hour = blank_pad(casual_by_hour)\n",
    "    registered_by_hour = blank_pad(registered_by_hour)\n",
    "    x = np.arange(24)\n",
    "    width = 0.5\n",
    "    ax.bar(x - width/2, casual_by_hour, width, label='Casual')\n",
    "    ax.bar(x + width/2, registered_by_hour, width, label='Registered')\n",
    "    ax.set_title(title)\n",
    "    ax.set_xticklabels(range(0,24))\n",
    "    ax.set_xticks(x)\n",
    "    ax.set_ylabel('Rides')\n",
    "    ax.legend()\n",
    "\n",
    "f, ax = plt.subplots()\n",
    "rider_bar_graph(BSS_train, ax, 'Average Rides by Hour')\n",
    "plt.show()\n",
    "'''\n",
    "Casual riders seem to be based on daylight hours whereas registered riders seem to be using the bikes for their commute.\n",
    "Note how registered riders spike at rush hour.\n",
    "'''"
   ]
  },
  {
   "cell_type": "markdown",
   "metadata": {
    "button": false,
    "new_sheet": false,
    "run_control": {
     "read_only": false
    }
   },
   "source": [
    "**2.8 Use the weather related variables to show how each weather...** "
   ]
  },
  {
   "cell_type": "code",
   "execution_count": 13,
   "metadata": {
    "button": false,
    "new_sheet": false,
    "run_control": {
     "read_only": false
    }
   },
   "outputs": [
    {
     "data": {
      "image/png": "[encoded data removed]",
      "text/plain": [
       "<Figure size 432x288 with 4 Axes>"
      ]
     },
     "metadata": {
      "needs_background": "light"
     },
     "output_type": "display_data"
    },
    {
     "data": {
      "text/plain": [
       "'\\nStorms have a major effect on ridership. Snow has some effect, but not as much as I expected.\\nClouds seem to be equivalent to clear skies for bike riders.\\n'"
      ]
     },
     "execution_count": 13,
     "metadata": {},
     "output_type": "execute_result"
    }
   ],
   "source": [
    "# SRC: https://stackoverflow.com/questions/26886653/pandas-create-new-column-based-on-values-from-other-columns-apply-a-function-o\n",
    "def get_clear_weather(row):\n",
    "    return int(not row['Cloudy'] and not row['Storm'] and not row['Snow'])\n",
    "\n",
    "BSS_train['Clear'] = BSS_train.apply(lambda row : get_clear_weather(row), axis=1)\n",
    "BSS_test['Clear'] = BSS_test.apply(lambda row : get_clear_weather(row), axis=1)\n",
    "\n",
    "f, axes = plt.subplots(1, 4, sharey=True)\n",
    "rider_bar_graph(BSS_train[BSS_train['Cloudy'] == 1], axes[0], 'Average Rides per Hour When Cloudy')\n",
    "rider_bar_graph(BSS_train[BSS_train['Snow'] == 1], axes[1], 'Average Rides per Hour When Snowy')\n",
    "rider_bar_graph(BSS_train[BSS_train['Storm'] == 1], axes[2], 'Average Rides per Hour When Stormy')\n",
    "rider_bar_graph(BSS_train[BSS_train['Clear'] == 1], axes[3], 'Average Rides per Hour When Clear')\n",
    "plt.show()\n",
    "\n",
    "'''\n",
    "Storms have a major effect on ridership. Snow has some effect, but not as much as I expected.\n",
    "Clouds seem to be equivalent to clear skies for bike riders.\n",
    "'''"
   ]
  },
  {
   "cell_type": "markdown",
   "metadata": {},
   "source": [
    "---"
   ]
  },
  {
   "cell_type": "markdown",
   "metadata": {
    "button": false,
    "new_sheet": false,
    "run_control": {
     "read_only": false
    }
   },
   "source": [
    "<div class='exercise'> <b> Question 3 [18pts]: Multiple Linear Regression to Predict Hourly Ridership </b> </div>\n",
    "\n",
    "\n",
    "**3.1** Use statsmodels to fit a multiple linear regression model to the training set using all the useable predictors (nothing that `count` was derived of and no interactions or polynomial terms) to predict `counts`, and report its $R^2$ score on the train and test sets.  Call this set of predictors `X_train`.\n",
    "\n",
    "**3.2** Examine the estimated coefficients and report which ones are statistically significant at a significance level of 5% (p-value < 0.05). \n",
    "\n",
    "**3.3** You should see some strange estimates for the predictors representing months.  Carefully interpret the `July` coefficient, and explain why this result is likely occurring (be as specific as possible). \n",
    "\n",
    "**3.4** To diagnose the model, make two plots: first a histogram of the residuals, and second a plot of the residuals of the fitted model ${e} = y - \\hat{y}$ as a function of the predicted value $\\hat{y}$. Draw a horizontal line denoting the zero residual value on the Y-axis. What do the plots reveal about the OLS assumptions (linearity, constant variance, and normality)?\n",
    "\n",
    "**3.5** Perhaps we can do better via a model with polynomial terms. Build a dataset `X_train_poly` from your `X_train` data from question 3.1 with added $x^2$ terms for `temp`, `hour`, and `humidity`. Are these polynomial terms important? How does predicted ridership change as each of `temp`, `hour`, and `humidity` increase?\n",
    "\n",
    "**3.6** You should have received a warning regarding the presence of _multicolinearity_ in the model in 3.1.  Create a new dataset `X_train_drop` by dropping the following predictors from `X_train`:  `workingday` `atemp` `spring` `summer` and `fall` and fit a multiple linear regression model to the variables the remain.  Are the estimates more sensible in this model?  And explain in your own words why multicolinearity can lead to erroneous coefficient values.\n",
    "\n"
   ]
  },
  {
   "cell_type": "markdown",
   "metadata": {
    "button": false,
    "new_sheet": false,
    "run_control": {
     "read_only": false
    }
   },
   "source": [
    "### Answers"
   ]
  },
  {
   "cell_type": "markdown",
   "metadata": {
    "button": false,
    "new_sheet": false,
    "run_control": {
     "read_only": false
    }
   },
   "source": [
    "**3.1 Use statsmodels to fit a multiple linear regression model...**"
   ]
  },
  {
   "cell_type": "code",
   "execution_count": 14,
   "metadata": {
    "button": false,
    "new_sheet": false,
    "run_control": {
     "read_only": false
    }
   },
   "outputs": [
    {
     "name": "stdout",
     "output_type": "stream",
     "text": [
      "-0.4448576472649992\n",
      "-0.4398646897039271\n"
     ]
    }
   ],
   "source": [
    "result_column = 'counts'\n",
    "interdependent_columns = ['counts', 'registered', 'casual', 'atemp', 'Storm', 'Snow', 'Cloudy', 'Clear']\n",
    "X_train = BSS_train[BSS_train.columns.difference(interdependent_columns)]\n",
    "X_train = sm.add_constant(X_train)\n",
    "X_test = BSS_test[BSS_test.columns.difference(interdependent_columns)]\n",
    "X_test = sm.add_constant(X_test)\n",
    "\n",
    "y_train = BSS_train[result_column]\n",
    "y_test = BSS_test[result_column]\n",
    "model = OLS(y_train,X_train).fit()\n",
    "model.summary() # R^2 = 0.411\n",
    "\n",
    "pred_train = model.predict(X_train)\n",
    "pred_test = model.predict(X_test)\n",
    "print(r2_score(pred_train, y_train))\n",
    "print(r2_score(pred_test, y_test))"
   ]
  },
  {
   "cell_type": "markdown",
   "metadata": {
    "button": false,
    "new_sheet": false,
    "run_control": {
     "read_only": false
    }
   },
   "source": [
    "**3.2 Examine the estimated coefficients and report...**"
   ]
  },
  {
   "cell_type": "code",
   "execution_count": 15,
   "metadata": {
    "button": false,
    "new_sheet": false,
    "run_control": {
     "read_only": false
    }
   },
   "outputs": [
    {
     "data": {
      "text/plain": [
       "'\\n==============================================================================\\n                 coef    std err          t      P>|t|      [0.025      0.975]\\n------------------------------------------------------------------------------\\nApr          -44.3600     12.637     -3.510      0.000     -69.132     -19.588\\nAug          -61.5561     15.010     -4.101      0.000     -90.979     -32.134\\nDec          -18.8023      9.562     -1.966      0.049     -37.545      -0.059\\nJul          -93.0475     15.368     -6.055      0.000    -123.172     -62.923\\nJun          -74.4792     13.674     -5.447      0.000    -101.283     -47.676\\nMay          -51.3484     13.488     -3.807      0.000     -77.789     -24.908\\nNov          -32.4080     12.052     -2.689      0.007     -56.033      -8.783\\nSat           12.5889      5.589      2.253      0.024       1.634      23.544\\nfall          71.4511      9.449      7.562      0.000      52.928      89.974\\nholiday      -20.0306      8.364     -2.395      0.017     -36.426      -3.635\\nhour           7.2081      0.233     30.961      0.000       6.752       7.664\\nhum         -200.1780      9.903    -20.213      0.000    -219.591    -180.765\\nspring        50.6888      9.528      5.320      0.000      32.012      69.365\\nsummer        22.8938     11.141      2.055      0.040       1.054      44.733\\ntemp         422.1501     16.977     24.866      0.000     388.872     455.429\\nworkingday    11.0216      3.513      3.138      0.002       4.136      17.907\\nyear          78.0900      3.021     25.846      0.000      72.167      84.013\\n==============================================================================\\n'"
      ]
     },
     "execution_count": 15,
     "metadata": {},
     "output_type": "execute_result"
    }
   ],
   "source": [
    "\n",
    "\n",
    "# STATISTICALLY SIGNIFICANT\n",
    "'''\n",
    "==============================================================================\n",
    "                 coef    std err          t      P>|t|      [0.025      0.975]\n",
    "------------------------------------------------------------------------------\n",
    "Apr          -44.3600     12.637     -3.510      0.000     -69.132     -19.588\n",
    "Aug          -61.5561     15.010     -4.101      0.000     -90.979     -32.134\n",
    "Dec          -18.8023      9.562     -1.966      0.049     -37.545      -0.059\n",
    "Jul          -93.0475     15.368     -6.055      0.000    -123.172     -62.923\n",
    "Jun          -74.4792     13.674     -5.447      0.000    -101.283     -47.676\n",
    "May          -51.3484     13.488     -3.807      0.000     -77.789     -24.908\n",
    "Nov          -32.4080     12.052     -2.689      0.007     -56.033      -8.783\n",
    "Sat           12.5889      5.589      2.253      0.024       1.634      23.544\n",
    "fall          71.4511      9.449      7.562      0.000      52.928      89.974\n",
    "holiday      -20.0306      8.364     -2.395      0.017     -36.426      -3.635\n",
    "hour           7.2081      0.233     30.961      0.000       6.752       7.664\n",
    "hum         -200.1780      9.903    -20.213      0.000    -219.591    -180.765\n",
    "spring        50.6888      9.528      5.320      0.000      32.012      69.365\n",
    "summer        22.8938     11.141      2.055      0.040       1.054      44.733\n",
    "temp         422.1501     16.977     24.866      0.000     388.872     455.429\n",
    "workingday    11.0216      3.513      3.138      0.002       4.136      17.907\n",
    "year          78.0900      3.021     25.846      0.000      72.167      84.013\n",
    "==============================================================================\n",
    "'''"
   ]
  },
  {
   "cell_type": "markdown",
   "metadata": {
    "run_control": {}
   },
   "source": [
    "**3.3 You should see some strange estimates for the predictors representing months...** "
   ]
  },
  {
   "cell_type": "markdown",
   "metadata": {
    "run_control": {}
   },
   "source": [
    "It's odd that all the significant month coefficients seem to be negative. There's probably interdependence with seasons, which all seem to be positive.\n",
    "The July coefficient is very negative, but it also has a relatively wide range of potential values (see the right two columns).\n",
    "I think July's range of values is likely so wide because there's a high variance in weather, temperature, and holidays during the month.\n",
    "Moreover, Washington, DC can be very hot in July, so it makes sense people may not want to ride bikes.\n"
   ]
  },
  {
   "cell_type": "markdown",
   "metadata": {
    "button": false,
    "new_sheet": false,
    "run_control": {
     "read_only": false
    }
   },
   "source": [
    "**3.4 To diagnose the model, make two plots:...**"
   ]
  },
  {
   "cell_type": "code",
   "execution_count": 16,
   "metadata": {
    "button": false,
    "new_sheet": false,
    "run_control": {
     "read_only": false
    }
   },
   "outputs": [
    {
     "data": {
      "image/png": "[encoded data removed]",
      "text/plain": [
       "<Figure size 432x288 with 2 Axes>"
      ]
     },
     "metadata": {
      "needs_background": "light"
     },
     "output_type": "display_data"
    },
    {
     "data": {
      "text/plain": [
       "'\\nThe histogram shows that our model tends to underestimate the number of rides.\\nThe residual plot shows a clear pattern, suggesting we have a colinearity problem in our model.\\n'"
      ]
     },
     "execution_count": 16,
     "metadata": {},
     "output_type": "execute_result"
    }
   ],
   "source": [
    "residuals = model.resid\n",
    "f, axes = plt.subplots(2)\n",
    "axes[0].hist(residuals)\n",
    "axes[1].scatter(pred_train, residuals)\n",
    "# SRC https://stackoverflow.com/questions/40516661/adding-line-to-scatter-plot-using-pythons-matplotlib\n",
    "\n",
    "axes[1].axhline(y=0, color='red')\n",
    "plt.show()\n",
    "'''\n",
    "The histogram shows that our model tends to underestimate the number of rides.\n",
    "The residual plot shows a clear pattern, suggesting we have a colinearity problem in our model.\n",
    "'''"
   ]
  },
  {
   "cell_type": "markdown",
   "metadata": {
    "button": false,
    "new_sheet": false,
    "run_control": {
     "read_only": false
    }
   },
   "source": [
    "**3.5 Perhaps we can do better via a model...**"
   ]
  },
  {
   "cell_type": "code",
   "execution_count": 17,
   "metadata": {
    "button": false,
    "new_sheet": false,
    "run_control": {
     "read_only": false
    }
   },
   "outputs": [
    {
     "data": {
      "text/plain": [
       "'\\nSTATISTICALLY SIGNIFICANT\\n==============================================================================\\n                 coef    std err          t      P>|t|      [0.025      0.975]\\n------------------------------------------------------------------------------\\nApr          -29.6012     12.710     -2.329      0.020     -54.516      -4.686\\nAug          -71.3115     15.047     -4.739      0.000    -100.808     -41.815\\nJul         -117.1690     15.540     -7.540      0.000    -147.631     -86.707\\nJun          -86.6098     13.644     -6.348      0.000    -113.355     -59.865\\nMay          -48.3453     13.436     -3.598      0.000     -74.683     -22.008\\nSat           11.6177      5.751      2.020      0.043       0.345      22.891\\nfall          75.1080      9.716      7.730      0.000      56.062      94.154\\nholiday      -25.1786      8.611     -2.924      0.003     -42.058      -8.299\\nhour^2         0.1964      0.010     20.224      0.000       0.177       0.215\\nhum^2       -176.8268      8.222    -21.507      0.000    -192.944    -160.710\\nspring        56.0514      9.804      5.717      0.000      36.834      75.269\\ntemp^2       488.8528     16.913     28.904      0.000     455.699     522.007\\nworkingday    12.3383      3.615      3.413      0.001       5.252      19.425\\nyear          77.6895      3.103     25.039      0.000      71.607      83.772\\n==============================================================================\\n'"
      ]
     },
     "execution_count": 17,
     "metadata": {},
     "output_type": "execute_result"
    }
   ],
   "source": [
    "X_train_poly = X_train.copy()\n",
    "def sq_column(df, column):\n",
    "    df[column+'^2'] = df[column]**2 # Add square column\n",
    "    df = df[df.columns.difference([column])] # Remove now dependent column\n",
    "    return df\n",
    "\n",
    "X_train_poly = sq_column(X_train_poly, 'temp')\n",
    "X_train_poly = sq_column(X_train_poly, 'hour')\n",
    "X_train_poly = sq_column(X_train_poly, 'hum')\n",
    "\n",
    "model_poly = OLS(y_train,X_train_poly).fit()\n",
    "pred_train_poly = model.predict(X_train_poly)\n",
    "\n",
    "# They're certainly important (all have p values far below .05)\n",
    "# Note: I removed non-polynomial temp, hum, and hour because I was concerned about interdependent variables\n",
    "\n",
    "'''\n",
    "STATISTICALLY SIGNIFICANT\n",
    "==============================================================================\n",
    "                 coef    std err          t      P>|t|      [0.025      0.975]\n",
    "------------------------------------------------------------------------------\n",
    "Apr          -29.6012     12.710     -2.329      0.020     -54.516      -4.686\n",
    "Aug          -71.3115     15.047     -4.739      0.000    -100.808     -41.815\n",
    "Jul         -117.1690     15.540     -7.540      0.000    -147.631     -86.707\n",
    "Jun          -86.6098     13.644     -6.348      0.000    -113.355     -59.865\n",
    "May          -48.3453     13.436     -3.598      0.000     -74.683     -22.008\n",
    "Sat           11.6177      5.751      2.020      0.043       0.345      22.891\n",
    "fall          75.1080      9.716      7.730      0.000      56.062      94.154\n",
    "holiday      -25.1786      8.611     -2.924      0.003     -42.058      -8.299\n",
    "hour^2         0.1964      0.010     20.224      0.000       0.177       0.215\n",
    "hum^2       -176.8268      8.222    -21.507      0.000    -192.944    -160.710\n",
    "spring        56.0514      9.804      5.717      0.000      36.834      75.269\n",
    "temp^2       488.8528     16.913     28.904      0.000     455.699     522.007\n",
    "workingday    12.3383      3.615      3.413      0.001       5.252      19.425\n",
    "year          77.6895      3.103     25.039      0.000      71.607      83.772\n",
    "==============================================================================\n",
    "'''"
   ]
  },
  {
   "cell_type": "markdown",
   "metadata": {
    "button": false,
    "new_sheet": false,
    "run_control": {
     "read_only": false
    }
   },
   "source": [
    "**3.6 You should have received a warning regarding the presence of _multicollinearity_...**"
   ]
  },
  {
   "cell_type": "code",
   "execution_count": 18,
   "metadata": {
    "button": false,
    "new_sheet": false,
    "run_control": {
     "read_only": false
    }
   },
   "outputs": [
    {
     "data": {
      "text/plain": [
       "'\\nLooks like the month coefficients stopped being completely negative. This makes sense since some of the removed columns were correlated to month and highly positive.\\nNow it seems that cold months have positive coefficients while warm months have negative coefficients.\\nAgain, this makes sense since DC is very hot in the summer.\\n'"
      ]
     },
     "execution_count": 18,
     "metadata": {},
     "output_type": "execute_result"
    }
   ],
   "source": [
    "X_train_drop = X_train.copy()\n",
    "X_train_drop = X_train_drop[X_train_drop.columns.difference(['workingday', 'atemp', 'spring', 'summer', 'fall'])] # Remove now dependent column\n",
    "model_drop = OLS(y_train, X_train_drop).fit()\n",
    "\"\"\"\n",
    "                            OLS Regression Results\n",
    "==============================================================================\n",
    "Dep. Variable:                 counts   R-squared:                       0.405\n",
    "Model:                            OLS   Adj. R-squared:                  0.403\n",
    "Method:                 Least Squares   F-statistic:                     226.9\n",
    "Date:                Wed, 09 Oct 2019   Prob (F-statistic):               0.00\n",
    "Time:                        20:15:15   Log-Likelihood:                -55263.\n",
    "No. Observations:                8689   AIC:                         1.106e+05\n",
    "Df Residuals:                    8662   BIC:                         1.108e+05\n",
    "Df Model:                          26\n",
    "Covariance Type:            nonrobust\n",
    "==============================================================================\n",
    "                 coef    std err          t      P>|t|      [0.025      0.975]\n",
    "------------------------------------------------------------------------------\n",
    "Aug          -40.9043     11.043     -3.704      0.000     -62.551     -19.258\n",
    "Dec           26.2086      7.582      3.457      0.001      11.346      41.071\n",
    "Fri           13.5104      5.640      2.396      0.017       2.455      24.566\n",
    "Jul          -72.2768     11.583     -6.240      0.000     -94.982     -49.571\n",
    "Jun          -35.3982     10.671     -3.317      0.001     -56.316     -14.480\n",
    "Nov           38.3870      7.796      4.924      0.000      23.106      53.668\n",
    "Oct           54.0377      8.686      6.221      0.000      37.010      71.065\n",
    "Sat           12.3255      5.614      2.196      0.028       1.321      23.330\n",
    "Tue           11.4788      5.705      2.012      0.044       0.295      22.663\n",
    "holiday      -37.2529      9.390     -3.967      0.000     -55.659     -18.846\n",
    "hour           7.2218      0.234     30.871      0.000       6.763       7.680\n",
    "hum         -198.2002      9.944    -19.933      0.000    -217.692    -178.709\n",
    "temp         425.3856     16.922     25.137      0.000     392.214     458.557\n",
    "year          77.9687      3.035     25.691      0.000      72.020      83.918\n",
    "==============================================================================\n",
    "Omnibus:                     1712.709   Durbin-Watson:                   1.975\n",
    "Prob(Omnibus):                  0.000   Jarque-Bera (JB):             3312.120\n",
    "Skew:                           1.202   Prob(JB):                         0.00\n",
    "Kurtosis:                       4.837   Cond. No.                     1.44e+16\n",
    "==============================================================================\n",
    "\n",
    "Warnings:\n",
    "[1] Standard Errors assume that the covariance matrix of the errors is correctly specified.\n",
    "[2] The smallest eigenvalue is 7.83e-27. This might indicate that there are\n",
    "strong multicollinearity problems or that the design matrix is singular.\n",
    "\"\"\"\n",
    "'''\n",
    "Looks like the month coefficients stopped being completely negative. This makes sense since some of the removed columns were correlated to month and highly positive.\n",
    "Now it seems that cold months have positive coefficients while warm months have negative coefficients.\n",
    "Again, this makes sense since DC is very hot in the summer.\n",
    "'''"
   ]
  },
  {
   "cell_type": "markdown",
   "metadata": {
    "run_control": {}
   },
   "source": [
    "---"
   ]
  },
  {
   "cell_type": "markdown",
   "metadata": {
    "button": false,
    "new_sheet": false,
    "run_control": {
     "read_only": false
    }
   },
   "source": [
    "<div class='exercise'> <b> Question 4 [20pts]: Regression Models with Polynomial and Interaction Terms </b> </div>\n",
    "\n",
    "**4.1** Drop the variables `workingday`, `atemp`, `spring`, `summer`, `fall`, and  `dteday` from `BSS_train` (if any of them still remain).\n",
    "\n",
    "**4.2** Write a function to standardize a provided subset of columns in your training/validation/test sets. Remember that while you will be scaling all of your data, you must learn the scaling parameters (mean and SD) from only the training set.\n",
    "\n",
    "Test your code by building a list of all non-binary columns from `X_train` into a dataset called `practice_X_train` and scaling only those columns. Call the result `practice_X_train_scaled`. Display the `.describe()` and verify that you have correctly scaled all columns, including the polynomial columns.\n",
    "\n",
    "**Hint: employ the provided list of binary columns and use `pd.columns.difference()`**\n",
    "\n",
    "`binary_columns = [ 'holiday', 'workingday','Feb', 'Mar', 'Apr',\n",
    "       'May', 'Jun', 'Jul', 'Aug', 'Sept', 'Oct', 'Nov', 'Dec', 'spring',\n",
    "       'summer', 'fall', 'Mon', 'Tue', 'Wed', 'Thu', 'Fri', 'Sat',\n",
    "       'Cloudy', 'Snow', 'Storm']`\n",
    "\n",
    "\n",
    "**4.3** Write a code to augment your a dataset with higher-order features for `temp`, `hum`,`windspeed`, and `hour`. You should include ONLY the pure powers of these columns. So with degree=2 you should produce `temp^2` and `hum^2` but not `temp*hum` or any other two-feature interactions. \n",
    "\n",
    "Encapsulate this process as a function with appropriate inputs and outputs, and test your code by producing `practice_X_train_poly`, a training dataset with quadratic and cubic features built from `practice_X_train_scaled`, and printing `practice_X_train_poly`'s column names and `.head()`.\n",
    "\n",
    "**4.4** Write code to add interaction terms to the model. Specifically, we want interactions between the continuous predictors (`temp`, `hum`,`windspeed`) and the month and weekday dummies (`Feb`, `Mar`...`Dec`, `Mon`, `Tue`, ... `Sat`). That means you SHOULD build `temp*Feb` and `hum*Mon` and so on, but NOT `Feb*Mar` and NOT `Feb*Tue`. The interaction terms should always be a continuous feature times a month dummy or a continuous feature times a weekday dummy.\n",
    "\n",
    "Encapsulate this process as a function with appropriate inputs and outputs, and test your code by adding interaction terms to `practice_X_train_poly` and show its column names and `.head()`**\n",
    "\n",
    "**4.5** Combine all your code so far into a function named `get_design_mats` that takes in `BSS_train`, `BSS_test`, the names of columns for polynomial, the target column, the columns to be dropped and produces computation-ready design matrices `X_train` and `X_test` and responses `y_train` and `y_test`. Your final function should build correct, scaled design matrices with the stated interaction terms and any polynomial degree.\n",
    "\n",
    "\n",
    "**4.6** For each degree in 1 through 8:\n",
    "\n",
    "1.  Build the training design matrix and validation design matrix using the function `get_design_mats` with polynomial terms up through the specified degree.\n",
    "\n",
    "2.  Fit a regression model to the training data.\n",
    "\n",
    "3.  Report the model's score on the test data.\n",
    "\n",
    "**4.7** Discuss patterns you see in the results from 4.5. Which model would you select, and why?"
   ]
  },
  {
   "cell_type": "markdown",
   "metadata": {
    "button": false,
    "new_sheet": false,
    "run_control": {
     "read_only": false
    }
   },
   "source": [
    "### Answers"
   ]
  },
  {
   "cell_type": "markdown",
   "metadata": {
    "button": false,
    "new_sheet": false,
    "run_control": {
     "read_only": false
    }
   },
   "source": [
    "**4.1 Drop...**"
   ]
  },
  {
   "cell_type": "code",
   "execution_count": 19,
   "metadata": {
    "button": false,
    "new_sheet": false,
    "run_control": {
     "read_only": false
    }
   },
   "outputs": [],
   "source": [
    "BSS_train = BSS_train[BSS_train.columns.difference(['atemp', 'spring', 'summer', 'fall', 'dteday'])]"
   ]
  },
  {
   "cell_type": "markdown",
   "metadata": {
    "button": false,
    "new_sheet": false,
    "run_control": {
     "read_only": false
    }
   },
   "source": [
    "**4.2 Write a function to standardize...**"
   ]
  },
  {
   "cell_type": "code",
   "execution_count": 20,
   "metadata": {
    "button": false,
    "new_sheet": false,
    "run_control": {
     "read_only": false
    }
   },
   "outputs": [],
   "source": [
    "binary_columns = [ 'holiday', 'workingday','Feb', 'Mar', 'Apr',\n",
    "       'May', 'Jun', 'Jul', 'Aug', 'Sept', 'Oct', 'Nov', 'Dec', 'spring',\n",
    "       'summer', 'fall', 'Mon', 'Tue', 'Wed', 'Thu', 'Fri', 'Sat',\n",
    "       'Cloudy', 'Snow', 'Storm']\n",
    "scalar_columns = X_train.columns.difference(binary_columns)\n",
    "\n",
    "practice_X_train = X_train.copy()[scalar_columns]\n",
    "practice_X_train = practice_X_train[scalar_columns]\n",
    "scaler = StandardScaler()\n",
    "scaler.fit(practice_X_train)\n",
    "\n",
    "def scale_df(df, scalar_columns, scaler):\n",
    "    scaled_df = df.copy()[scalar_columns]\n",
    "    return pd.DataFrame(scaler.transform(scaled_df), columns=scaled_df.columns)\n",
    "\n",
    "practice_X_train_scaled = scale_df(X_train, scalar_columns, scaler)"
   ]
  },
  {
   "cell_type": "markdown",
   "metadata": {
    "button": false,
    "new_sheet": false,
    "run_control": {
     "read_only": false
    }
   },
   "source": [
    "**4.3 Write code to augment your a dataset with higher-order features for...**"
   ]
  },
  {
   "cell_type": "code",
   "execution_count": 21,
   "metadata": {
    "button": false,
    "new_sheet": false,
    "run_control": {
     "read_only": false
    }
   },
   "outputs": [
    {
     "data": {
      "text/html": [
       "<div>\n",
       "<style scoped>\n",
       "    .dataframe tbody tr th:only-of-type {\n",
       "        vertical-align: middle;\n",
       "    }\n",
       "\n",
       "    .dataframe tbody tr th {\n",
       "        vertical-align: top;\n",
       "    }\n",
       "\n",
       "    .dataframe thead th {\n",
       "        text-align: right;\n",
       "    }\n",
       "</style>\n",
       "<table border=\"1\" class=\"dataframe\">\n",
       "  <thead>\n",
       "    <tr style=\"text-align: right;\">\n",
       "      <th></th>\n",
       "      <th>const</th>\n",
       "      <th>hour</th>\n",
       "      <th>hum</th>\n",
       "      <th>temp</th>\n",
       "      <th>windspeed</th>\n",
       "      <th>year</th>\n",
       "      <th>hour^2</th>\n",
       "      <th>hour^3</th>\n",
       "      <th>temp^2</th>\n",
       "      <th>temp^3</th>\n",
       "      <th>windspeed^2</th>\n",
       "      <th>windspeed^3</th>\n",
       "      <th>hum^2</th>\n",
       "      <th>hum^3</th>\n",
       "    </tr>\n",
       "  </thead>\n",
       "  <tbody>\n",
       "    <tr>\n",
       "      <th>count</th>\n",
       "      <td>8689.0</td>\n",
       "      <td>8.689000e+03</td>\n",
       "      <td>8.689000e+03</td>\n",
       "      <td>8.689000e+03</td>\n",
       "      <td>8.689000e+03</td>\n",
       "      <td>8.689000e+03</td>\n",
       "      <td>8689.000000</td>\n",
       "      <td>8689.000000</td>\n",
       "      <td>8689.000000</td>\n",
       "      <td>8689.000000</td>\n",
       "      <td>8689.000000</td>\n",
       "      <td>8689.000000</td>\n",
       "      <td>8689.000000</td>\n",
       "      <td>8689.000000</td>\n",
       "    </tr>\n",
       "    <tr>\n",
       "      <th>mean</th>\n",
       "      <td>0.0</td>\n",
       "      <td>2.762461e-17</td>\n",
       "      <td>-4.148227e-16</td>\n",
       "      <td>-7.622961e-17</td>\n",
       "      <td>-5.604141e-17</td>\n",
       "      <td>-2.754411e-16</td>\n",
       "      <td>1.000000</td>\n",
       "      <td>-0.029536</td>\n",
       "      <td>1.000000</td>\n",
       "      <td>-0.003553</td>\n",
       "      <td>1.000000</td>\n",
       "      <td>0.604780</td>\n",
       "      <td>1.000000</td>\n",
       "      <td>-0.117170</td>\n",
       "    </tr>\n",
       "    <tr>\n",
       "      <th>std</th>\n",
       "      <td>0.0</td>\n",
       "      <td>1.000058e+00</td>\n",
       "      <td>1.000058e+00</td>\n",
       "      <td>1.000058e+00</td>\n",
       "      <td>1.000058e+00</td>\n",
       "      <td>1.000058e+00</td>\n",
       "      <td>0.883775</td>\n",
       "      <td>1.937962</td>\n",
       "      <td>1.031511</td>\n",
       "      <td>2.427744</td>\n",
       "      <td>1.644144</td>\n",
       "      <td>5.603067</td>\n",
       "      <td>1.096835</td>\n",
       "      <td>2.723191</td>\n",
       "    </tr>\n",
       "    <tr>\n",
       "      <th>min</th>\n",
       "      <td>0.0</td>\n",
       "      <td>-1.666359e+00</td>\n",
       "      <td>-3.251974e+00</td>\n",
       "      <td>-2.474192e+00</td>\n",
       "      <td>-1.546636e+00</td>\n",
       "      <td>-1.006813e+00</td>\n",
       "      <td>0.003344</td>\n",
       "      <td>-4.627068</td>\n",
       "      <td>0.000349</td>\n",
       "      <td>-15.146077</td>\n",
       "      <td>0.000754</td>\n",
       "      <td>-3.699682</td>\n",
       "      <td>0.000609</td>\n",
       "      <td>-34.390707</td>\n",
       "    </tr>\n",
       "    <tr>\n",
       "      <th>25%</th>\n",
       "      <td>0.0</td>\n",
       "      <td>-8.042663e-01</td>\n",
       "      <td>-7.554808e-01</td>\n",
       "      <td>-8.122824e-01</td>\n",
       "      <td>-6.987336e-01</td>\n",
       "      <td>-1.006813e+00</td>\n",
       "      <td>0.238997</td>\n",
       "      <td>-0.520235</td>\n",
       "      <td>0.188486</td>\n",
       "      <td>-0.535946</td>\n",
       "      <td>0.072936</td>\n",
       "      <td>-0.341142</td>\n",
       "      <td>0.153201</td>\n",
       "      <td>-0.431192</td>\n",
       "    </tr>\n",
       "    <tr>\n",
       "      <th>50%</th>\n",
       "      <td>0.0</td>\n",
       "      <td>5.782674e-02</td>\n",
       "      <td>-2.733697e-02</td>\n",
       "      <td>1.867233e-02</td>\n",
       "      <td>2.746035e-02</td>\n",
       "      <td>9.932327e-01</td>\n",
       "      <td>0.846252</td>\n",
       "      <td>0.000193</td>\n",
       "      <td>0.659803</td>\n",
       "      <td>0.000007</td>\n",
       "      <td>0.488229</td>\n",
       "      <td>0.000021</td>\n",
       "      <td>0.647747</td>\n",
       "      <td>-0.000020</td>\n",
       "    </tr>\n",
       "    <tr>\n",
       "      <th>75%</th>\n",
       "      <td>0.0</td>\n",
       "      <td>9.199197e-01</td>\n",
       "      <td>8.048274e-01</td>\n",
       "      <td>8.496271e-01</td>\n",
       "      <td>5.118601e-01</td>\n",
       "      <td>9.932327e-01</td>\n",
       "      <td>1.825110</td>\n",
       "      <td>0.778484</td>\n",
       "      <td>1.507394</td>\n",
       "      <td>0.613317</td>\n",
       "      <td>1.249853</td>\n",
       "      <td>0.134108</td>\n",
       "      <td>1.620325</td>\n",
       "      <td>0.521325</td>\n",
       "    </tr>\n",
       "    <tr>\n",
       "      <th>max</th>\n",
       "      <td>0.0</td>\n",
       "      <td>1.638331e+00</td>\n",
       "      <td>1.949053e+00</td>\n",
       "      <td>2.511537e+00</td>\n",
       "      <td>5.355858e+00</td>\n",
       "      <td>9.932327e-01</td>\n",
       "      <td>2.776753</td>\n",
       "      <td>4.397488</td>\n",
       "      <td>6.307816</td>\n",
       "      <td>15.842311</td>\n",
       "      <td>28.685212</td>\n",
       "      <td>153.633917</td>\n",
       "      <td>10.575333</td>\n",
       "      <td>7.404081</td>\n",
       "    </tr>\n",
       "  </tbody>\n",
       "</table>\n",
       "</div>"
      ],
      "text/plain": [
       "        const          hour           hum          temp     windspeed  \\\n",
       "count  8689.0  8.689000e+03  8.689000e+03  8.689000e+03  8.689000e+03   \n",
       "mean      0.0  2.762461e-17 -4.148227e-16 -7.622961e-17 -5.604141e-17   \n",
       "std       0.0  1.000058e+00  1.000058e+00  1.000058e+00  1.000058e+00   \n",
       "min       0.0 -1.666359e+00 -3.251974e+00 -2.474192e+00 -1.546636e+00   \n",
       "25%       0.0 -8.042663e-01 -7.554808e-01 -8.122824e-01 -6.987336e-01   \n",
       "50%       0.0  5.782674e-02 -2.733697e-02  1.867233e-02  2.746035e-02   \n",
       "75%       0.0  9.199197e-01  8.048274e-01  8.496271e-01  5.118601e-01   \n",
       "max       0.0  1.638331e+00  1.949053e+00  2.511537e+00  5.355858e+00   \n",
       "\n",
       "               year       hour^2       hour^3       temp^2       temp^3  \\\n",
       "count  8.689000e+03  8689.000000  8689.000000  8689.000000  8689.000000   \n",
       "mean  -2.754411e-16     1.000000    -0.029536     1.000000    -0.003553   \n",
       "std    1.000058e+00     0.883775     1.937962     1.031511     2.427744   \n",
       "min   -1.006813e+00     0.003344    -4.627068     0.000349   -15.146077   \n",
       "25%   -1.006813e+00     0.238997    -0.520235     0.188486    -0.535946   \n",
       "50%    9.932327e-01     0.846252     0.000193     0.659803     0.000007   \n",
       "75%    9.932327e-01     1.825110     0.778484     1.507394     0.613317   \n",
       "max    9.932327e-01     2.776753     4.397488     6.307816    15.842311   \n",
       "\n",
       "       windspeed^2  windspeed^3        hum^2        hum^3  \n",
       "count  8689.000000  8689.000000  8689.000000  8689.000000  \n",
       "mean      1.000000     0.604780     1.000000    -0.117170  \n",
       "std       1.644144     5.603067     1.096835     2.723191  \n",
       "min       0.000754    -3.699682     0.000609   -34.390707  \n",
       "25%       0.072936    -0.341142     0.153201    -0.431192  \n",
       "50%       0.488229     0.000021     0.647747    -0.000020  \n",
       "75%       1.249853     0.134108     1.620325     0.521325  \n",
       "max      28.685212   153.633917    10.575333     7.404081  "
      ]
     },
     "execution_count": 21,
     "metadata": {},
     "output_type": "execute_result"
    }
   ],
   "source": [
    "def add_higher_order(df, deg, columns):\n",
    "    new_df = df.copy()\n",
    "    for col in columns:\n",
    "        for x in range(2,deg+1):\n",
    "            new_df[col + '^' + str(x)] = new_df[col]**x\n",
    "    return new_df\n",
    "\n",
    "practice_X_train_poly = add_higher_order(practice_X_train_scaled, 3, ['hour', 'temp', 'windspeed', 'hum'])\n",
    "practice_X_train_poly.describe()"
   ]
  },
  {
   "cell_type": "markdown",
   "metadata": {
    "button": false,
    "new_sheet": false,
    "run_control": {
     "read_only": false
    }
   },
   "source": [
    "**4.4 Write code to add interaction terms to the model...**"
   ]
  },
  {
   "cell_type": "code",
   "execution_count": 22,
   "metadata": {
    "button": false,
    "new_sheet": false,
    "run_control": {
     "read_only": false
    }
   },
   "outputs": [
    {
     "data": {
      "text/html": [
       "<div>\n",
       "<style scoped>\n",
       "    .dataframe tbody tr th:only-of-type {\n",
       "        vertical-align: middle;\n",
       "    }\n",
       "\n",
       "    .dataframe tbody tr th {\n",
       "        vertical-align: top;\n",
       "    }\n",
       "\n",
       "    .dataframe thead th {\n",
       "        text-align: right;\n",
       "    }\n",
       "</style>\n",
       "<table border=\"1\" class=\"dataframe\">\n",
       "  <thead>\n",
       "    <tr style=\"text-align: right;\">\n",
       "      <th></th>\n",
       "      <th>const</th>\n",
       "      <th>hour</th>\n",
       "      <th>hum</th>\n",
       "      <th>temp</th>\n",
       "      <th>windspeed</th>\n",
       "      <th>year</th>\n",
       "      <th>hour^2</th>\n",
       "      <th>hour^3</th>\n",
       "      <th>temp^2</th>\n",
       "      <th>temp^3</th>\n",
       "      <th>...</th>\n",
       "      <th>Wed_windspeed</th>\n",
       "      <th>Thu_temp</th>\n",
       "      <th>Thu_hum</th>\n",
       "      <th>Thu_windspeed</th>\n",
       "      <th>Fri_temp</th>\n",
       "      <th>Fri_hum</th>\n",
       "      <th>Fri_windspeed</th>\n",
       "      <th>Sat_temp</th>\n",
       "      <th>Sat_hum</th>\n",
       "      <th>Sat_windspeed</th>\n",
       "    </tr>\n",
       "  </thead>\n",
       "  <tbody>\n",
       "    <tr>\n",
       "      <th>count</th>\n",
       "      <td>8689.0</td>\n",
       "      <td>8.689000e+03</td>\n",
       "      <td>8689.000000</td>\n",
       "      <td>8689.000000</td>\n",
       "      <td>8689.000000</td>\n",
       "      <td>8.689000e+03</td>\n",
       "      <td>8689.000000</td>\n",
       "      <td>8689.000000</td>\n",
       "      <td>8689.000000</td>\n",
       "      <td>8689.000000</td>\n",
       "      <td>...</td>\n",
       "      <td>8689.000000</td>\n",
       "      <td>8689.000000</td>\n",
       "      <td>8689.000000</td>\n",
       "      <td>8689.000000</td>\n",
       "      <td>8689.000000</td>\n",
       "      <td>8689.000000</td>\n",
       "      <td>8689.000000</td>\n",
       "      <td>8689.000000</td>\n",
       "      <td>8689.000000</td>\n",
       "      <td>8689.000000</td>\n",
       "    </tr>\n",
       "    <tr>\n",
       "      <th>mean</th>\n",
       "      <td>0.0</td>\n",
       "      <td>2.762461e-17</td>\n",
       "      <td>0.625256</td>\n",
       "      <td>0.496405</td>\n",
       "      <td>0.190616</td>\n",
       "      <td>-2.754411e-16</td>\n",
       "      <td>1.000000</td>\n",
       "      <td>-0.029536</td>\n",
       "      <td>1.000000</td>\n",
       "      <td>-0.003553</td>\n",
       "      <td>...</td>\n",
       "      <td>0.026581</td>\n",
       "      <td>0.072469</td>\n",
       "      <td>0.087798</td>\n",
       "      <td>0.027769</td>\n",
       "      <td>0.071005</td>\n",
       "      <td>0.087275</td>\n",
       "      <td>0.027094</td>\n",
       "      <td>0.069957</td>\n",
       "      <td>0.090495</td>\n",
       "      <td>0.028565</td>\n",
       "    </tr>\n",
       "    <tr>\n",
       "      <th>std</th>\n",
       "      <td>0.0</td>\n",
       "      <td>1.000058e+00</td>\n",
       "      <td>0.192281</td>\n",
       "      <td>0.192561</td>\n",
       "      <td>0.123252</td>\n",
       "      <td>1.000058e+00</td>\n",
       "      <td>0.883775</td>\n",
       "      <td>1.937962</td>\n",
       "      <td>1.031511</td>\n",
       "      <td>2.427744</td>\n",
       "      <td>...</td>\n",
       "      <td>0.080497</td>\n",
       "      <td>0.190548</td>\n",
       "      <td>0.226148</td>\n",
       "      <td>0.081036</td>\n",
       "      <td>0.188233</td>\n",
       "      <td>0.224302</td>\n",
       "      <td>0.081786</td>\n",
       "      <td>0.185319</td>\n",
       "      <td>0.231813</td>\n",
       "      <td>0.083733</td>\n",
       "    </tr>\n",
       "    <tr>\n",
       "      <th>min</th>\n",
       "      <td>0.0</td>\n",
       "      <td>-1.666359e+00</td>\n",
       "      <td>0.000000</td>\n",
       "      <td>0.020000</td>\n",
       "      <td>0.000000</td>\n",
       "      <td>-1.006813e+00</td>\n",
       "      <td>0.003344</td>\n",
       "      <td>-4.627068</td>\n",
       "      <td>0.000349</td>\n",
       "      <td>-15.146077</td>\n",
       "      <td>...</td>\n",
       "      <td>0.000000</td>\n",
       "      <td>0.000000</td>\n",
       "      <td>0.000000</td>\n",
       "      <td>0.000000</td>\n",
       "      <td>0.000000</td>\n",
       "      <td>0.000000</td>\n",
       "      <td>0.000000</td>\n",
       "      <td>0.000000</td>\n",
       "      <td>0.000000</td>\n",
       "      <td>0.000000</td>\n",
       "    </tr>\n",
       "    <tr>\n",
       "      <th>25%</th>\n",
       "      <td>0.0</td>\n",
       "      <td>-8.042663e-01</td>\n",
       "      <td>0.480000</td>\n",
       "      <td>0.340000</td>\n",
       "      <td>0.104500</td>\n",
       "      <td>-1.006813e+00</td>\n",
       "      <td>0.238997</td>\n",
       "      <td>-0.520235</td>\n",
       "      <td>0.188486</td>\n",
       "      <td>-0.535946</td>\n",
       "      <td>...</td>\n",
       "      <td>0.000000</td>\n",
       "      <td>0.000000</td>\n",
       "      <td>0.000000</td>\n",
       "      <td>0.000000</td>\n",
       "      <td>0.000000</td>\n",
       "      <td>0.000000</td>\n",
       "      <td>0.000000</td>\n",
       "      <td>0.000000</td>\n",
       "      <td>0.000000</td>\n",
       "      <td>0.000000</td>\n",
       "    </tr>\n",
       "    <tr>\n",
       "      <th>50%</th>\n",
       "      <td>0.0</td>\n",
       "      <td>5.782674e-02</td>\n",
       "      <td>0.620000</td>\n",
       "      <td>0.500000</td>\n",
       "      <td>0.194000</td>\n",
       "      <td>9.932327e-01</td>\n",
       "      <td>0.846252</td>\n",
       "      <td>0.000193</td>\n",
       "      <td>0.659803</td>\n",
       "      <td>0.000007</td>\n",
       "      <td>...</td>\n",
       "      <td>0.000000</td>\n",
       "      <td>0.000000</td>\n",
       "      <td>0.000000</td>\n",
       "      <td>0.000000</td>\n",
       "      <td>0.000000</td>\n",
       "      <td>0.000000</td>\n",
       "      <td>0.000000</td>\n",
       "      <td>0.000000</td>\n",
       "      <td>0.000000</td>\n",
       "      <td>0.000000</td>\n",
       "    </tr>\n",
       "    <tr>\n",
       "      <th>75%</th>\n",
       "      <td>0.0</td>\n",
       "      <td>9.199197e-01</td>\n",
       "      <td>0.780000</td>\n",
       "      <td>0.660000</td>\n",
       "      <td>0.253700</td>\n",
       "      <td>9.932327e-01</td>\n",
       "      <td>1.825110</td>\n",
       "      <td>0.778484</td>\n",
       "      <td>1.507394</td>\n",
       "      <td>0.613317</td>\n",
       "      <td>...</td>\n",
       "      <td>0.000000</td>\n",
       "      <td>0.000000</td>\n",
       "      <td>0.000000</td>\n",
       "      <td>0.000000</td>\n",
       "      <td>0.000000</td>\n",
       "      <td>0.000000</td>\n",
       "      <td>0.000000</td>\n",
       "      <td>0.000000</td>\n",
       "      <td>0.000000</td>\n",
       "      <td>0.000000</td>\n",
       "    </tr>\n",
       "    <tr>\n",
       "      <th>max</th>\n",
       "      <td>0.0</td>\n",
       "      <td>1.638331e+00</td>\n",
       "      <td>1.000000</td>\n",
       "      <td>0.980000</td>\n",
       "      <td>0.850700</td>\n",
       "      <td>9.932327e-01</td>\n",
       "      <td>2.776753</td>\n",
       "      <td>4.397488</td>\n",
       "      <td>6.307816</td>\n",
       "      <td>15.842311</td>\n",
       "      <td>...</td>\n",
       "      <td>0.641800</td>\n",
       "      <td>0.920000</td>\n",
       "      <td>1.000000</td>\n",
       "      <td>0.641800</td>\n",
       "      <td>0.980000</td>\n",
       "      <td>1.000000</td>\n",
       "      <td>0.806000</td>\n",
       "      <td>0.960000</td>\n",
       "      <td>1.000000</td>\n",
       "      <td>0.835800</td>\n",
       "    </tr>\n",
       "  </tbody>\n",
       "</table>\n",
       "<p>8 rows × 82 columns</p>\n",
       "</div>"
      ],
      "text/plain": [
       "        const          hour          hum         temp    windspeed  \\\n",
       "count  8689.0  8.689000e+03  8689.000000  8689.000000  8689.000000   \n",
       "mean      0.0  2.762461e-17     0.625256     0.496405     0.190616   \n",
       "std       0.0  1.000058e+00     0.192281     0.192561     0.123252   \n",
       "min       0.0 -1.666359e+00     0.000000     0.020000     0.000000   \n",
       "25%       0.0 -8.042663e-01     0.480000     0.340000     0.104500   \n",
       "50%       0.0  5.782674e-02     0.620000     0.500000     0.194000   \n",
       "75%       0.0  9.199197e-01     0.780000     0.660000     0.253700   \n",
       "max       0.0  1.638331e+00     1.000000     0.980000     0.850700   \n",
       "\n",
       "               year       hour^2       hour^3       temp^2       temp^3  ...  \\\n",
       "count  8.689000e+03  8689.000000  8689.000000  8689.000000  8689.000000  ...   \n",
       "mean  -2.754411e-16     1.000000    -0.029536     1.000000    -0.003553  ...   \n",
       "std    1.000058e+00     0.883775     1.937962     1.031511     2.427744  ...   \n",
       "min   -1.006813e+00     0.003344    -4.627068     0.000349   -15.146077  ...   \n",
       "25%   -1.006813e+00     0.238997    -0.520235     0.188486    -0.535946  ...   \n",
       "50%    9.932327e-01     0.846252     0.000193     0.659803     0.000007  ...   \n",
       "75%    9.932327e-01     1.825110     0.778484     1.507394     0.613317  ...   \n",
       "max    9.932327e-01     2.776753     4.397488     6.307816    15.842311  ...   \n",
       "\n",
       "       Wed_windspeed     Thu_temp      Thu_hum  Thu_windspeed     Fri_temp  \\\n",
       "count    8689.000000  8689.000000  8689.000000    8689.000000  8689.000000   \n",
       "mean        0.026581     0.072469     0.087798       0.027769     0.071005   \n",
       "std         0.080497     0.190548     0.226148       0.081036     0.188233   \n",
       "min         0.000000     0.000000     0.000000       0.000000     0.000000   \n",
       "25%         0.000000     0.000000     0.000000       0.000000     0.000000   \n",
       "50%         0.000000     0.000000     0.000000       0.000000     0.000000   \n",
       "75%         0.000000     0.000000     0.000000       0.000000     0.000000   \n",
       "max         0.641800     0.920000     1.000000       0.641800     0.980000   \n",
       "\n",
       "           Fri_hum  Fri_windspeed     Sat_temp      Sat_hum  Sat_windspeed  \n",
       "count  8689.000000    8689.000000  8689.000000  8689.000000    8689.000000  \n",
       "mean      0.087275       0.027094     0.069957     0.090495       0.028565  \n",
       "std       0.224302       0.081786     0.185319     0.231813       0.083733  \n",
       "min       0.000000       0.000000     0.000000     0.000000       0.000000  \n",
       "25%       0.000000       0.000000     0.000000     0.000000       0.000000  \n",
       "50%       0.000000       0.000000     0.000000     0.000000       0.000000  \n",
       "75%       0.000000       0.000000     0.000000     0.000000       0.000000  \n",
       "max       1.000000       0.806000     0.960000     1.000000       0.835800  \n",
       "\n",
       "[8 rows x 82 columns]"
      ]
     },
     "execution_count": 22,
     "metadata": {},
     "output_type": "execute_result"
    }
   ],
   "source": [
    "\n",
    "time_cols = [ 'Feb', 'Mar', 'Apr', 'May', 'Jun', 'Jul', 'Aug', 'Sept', 'Oct', 'Nov', 'Dec',\n",
    "            'Mon', 'Tue', 'Wed', 'Thu', 'Fri', 'Sat']\n",
    "weather_cols = ['temp', 'hum', 'windspeed']\n",
    "\n",
    "def add_interactions(df, time_cols, weather_cols):\n",
    "    new_df = df.copy()\n",
    "    for time_col in time_cols:\n",
    "        for weather_col in weather_cols:\n",
    "            new_df[time_col + '_' + weather_col] = new_df[time_col] * new_df[weather_col]\n",
    "    return new_df\n",
    "\n",
    "# Re-add time and weather cols to practice_X_train_poly\n",
    "for time_col in time_cols:\n",
    "    practice_X_train_poly[time_col] = X_train[time_col]\n",
    "\n",
    "for weather_col in weather_cols:\n",
    "    practice_X_train_poly[weather_col] = X_train[weather_col]\n",
    "\n",
    "practice_X_train_poly = add_interactions(practice_X_train_poly, time_cols, weather_cols)\n",
    "practice_X_train_poly.describe()"
   ]
  },
  {
   "cell_type": "markdown",
   "metadata": {
    "button": false,
    "new_sheet": false,
    "run_control": {
     "read_only": false
    }
   },
   "source": [
    "**4.5 Combine all your code so far into a function named...**"
   ]
  },
  {
   "cell_type": "code",
   "execution_count": 23,
   "metadata": {
    "button": false,
    "new_sheet": false,
    "run_control": {
     "read_only": false
    }
   },
   "outputs": [],
   "source": [
    "def get_design_mats(train_df, val_df,  degree,\n",
    "                    columns_forpoly=['temp', 'hum','windspeed', 'hour'],\n",
    "                    target_col='counts',\n",
    "                    bad_columns=['counts']):\n",
    "    \"\"\"\n",
    "    :param train_df: The training data\n",
    "    :param val_df: Your test/validation data\n",
    "    :param columns_forpoly: List containing the column name for which we want to create\n",
    "                            polynomial terms\n",
    "    :param target_col: The response variable column\n",
    "    :param bad_columns: The columns you want to drop\n",
    "    \"\"\"\n",
    "\n",
    "    time_cols = [ 'Feb', 'Mar', 'Apr', 'May', 'Jun', 'Jul', 'Aug', 'Sept', 'Oct', 'Nov', 'Dec',\n",
    "            'Mon', 'Tue', 'Wed', 'Thu', 'Fri', 'Sat']\n",
    "    weather_cols = ['temp', 'hum', 'windspeed']\n",
    "\n",
    "    # Set target values\n",
    "    y_train = train_df[target_col]\n",
    "    y_val = val_df[target_col]\n",
    "\n",
    "    x_train = train_df[train_df.columns.difference(bad_columns)]\n",
    "    x_train = sm.add_constant(x_train)\n",
    "    scaler = StandardScaler()\n",
    "    scaler.fit(x_train[scalar_columns])\n",
    "\n",
    "    x_train = scale_df(x_train, scalar_columns, scaler)\n",
    "    x_train = add_higher_order(x_train, degree, columns_forpoly)\n",
    "    for time_col in time_cols:\n",
    "        x_train[time_col] = train_df[time_col]\n",
    "    for weather_col in weather_cols:\n",
    "        x_train[weather_col] = train_df[weather_col]\n",
    "    x_train = add_interactions(x_train, time_cols, weather_cols)\n",
    "\n",
    "    x_val = val_df[val_df.columns.difference(bad_columns)]\n",
    "    x_val = sm.add_constant(x_val)\n",
    "    x_val = scale_df(x_val, scalar_columns, scaler)\n",
    "    x_val = add_higher_order(x_val, degree, columns_forpoly)\n",
    "    for time_col in time_cols:\n",
    "        x_val[time_col] = train_df[time_col]\n",
    "    for weather_col in weather_cols:\n",
    "        x_val[weather_col] = train_df[weather_col]\n",
    "    x_val = add_interactions(x_val, time_cols, weather_cols)\n",
    "\n",
    "    return x_train,y_train, x_val,y_val\n"
   ]
  },
  {
   "cell_type": "markdown",
   "metadata": {
    "button": false,
    "new_sheet": false,
    "run_control": {
     "read_only": false
    }
   },
   "source": [
    "**4.6 For each degree in 1 through 8...**"
   ]
  },
  {
   "cell_type": "code",
   "execution_count": 24,
   "metadata": {
    "button": false,
    "new_sheet": false,
    "run_control": {
     "read_only": false
    }
   },
   "outputs": [
    {
     "name": "stdout",
     "output_type": "stream",
     "text": [
      "-0.04051171566788003\n",
      "-0.04051171566788003\n",
      "0.1649124976783597\n",
      "0.012706655156264013\n",
      "0.007322914259265234\n",
      "0.12320588451616399\n",
      "0.09649422445477374\n",
      "0.2588667142115473\n",
      "0.2842179467216389\n"
     ]
    }
   ],
   "source": [
    "for deg in range(0,9):\n",
    "    # HACK: Drops one item from validation to make sure sizes match\n",
    "    x_train,y_train, x_val,y_val = get_design_mats(BSS_train, BSS_test[:-1], deg, bad_columns=['counts', 'casual', 'registered'])\n",
    "    model = OLS(y_train, x_train).fit()\n",
    "    y_pred = model.predict(x_val)\n",
    "    score = r2_score(y_val, y_pred)\n",
    "    print(score)"
   ]
  },
  {
   "cell_type": "markdown",
   "metadata": {
    "button": false,
    "new_sheet": false,
    "run_control": {
     "read_only": false
    }
   },
   "source": [
    "**4.7 Discuss patterns you see in the results...**"
   ]
  },
  {
   "cell_type": "markdown",
   "metadata": {
    "button": false,
    "new_sheet": false,
    "run_control": {
     "read_only": false
    }
   },
   "source": [
    "Scores clearly improve as we add more degrees, but we are almost certainly overfitting. We'd want to see how the residuals for the test and training sets diverge as degree increases.\n",
    "\n",
    "It's also worth noting these scores are still quite low. It may mean our model is flawed, or bike ridership could be particularly hard to predict."
   ]
  },
  {
   "cell_type": "markdown",
   "metadata": {},
   "source": [
    "---"
   ]
  },
  {
   "cell_type": "markdown",
   "metadata": {
    "button": false,
    "new_sheet": false,
    "run_control": {
     "read_only": false
    }
   },
   "source": [
    "<div class='exercise'> <b> Question 5 [20pts]: Regularized Models </b> </div>\n",
    "\n",
    "**5.1** Let's try regularizing our models via ridge regression. Split the training set, `BSS_train`, into an 80-20 train-validation split.  Build a table showing the validation set $R^2$ of polynomial models with degree from 1-8, regularized at the levels $\\lambda = (.01, .05, .1,.5, 1, 5, 10, 50, 100)$. Do not perform cross validation at this point, simply report performance on the single validation set. \n",
    "\n",
    "**5.2** Find the best-scoring degree and regularization combination.\n",
    "\n",
    "**5.3** It's time to see how well our selected model will do on future data. Use the earlier created test dataset, do any required formatting, and report the best model's $R^2$ score. How does it compare to the validation set score that made us choose this model? Does the test set simply have observations that are more difficult or easier to predict?\n",
    "\n",
    "**5.4** Build a dataset with polynomial degree 1 and fit an OLS model, a Ridge model, and a Lasso model. Use `RidgeCV` and `LassoCV` to select the best regularization level from among `(.1,.5,1,5,10,50,100)`. \n",
    "\n",
    "Note: On the lasso model, you may need to increase `max_iter` (start with 100,000) for the optimization to converge.\n",
    "\n",
    "**5.5** Plot histograms of the coefficients found by each of OLS, ridge, and lasso. What trends do you see in the magnitude of the coefficients?\n",
    "\n",
    "**5.6** The plots above show the overall distribution of coefficient values in each model, but do not show how each model treats individual coefficients. Build a plot which cleanly presents, for each feature in the data, 1) The coefficient assigned by OLS, 2) the coefficient assigned by ridge, and 3) the coefficient assigned by lasso.\n",
    "\n",
    "**Hint: Bar plots are a possible choice, but you are not required to use them**\n",
    "\n",
    "**Hint: use `xticks` to label coefficients with their feature names**\n",
    "\n",
    "**5.7** What trends do you see in the plot above? How do the three approaches handle the correlated pair `temp` and `atemp`?"
   ]
  },
  {
   "cell_type": "markdown",
   "metadata": {
    "button": false,
    "new_sheet": false,
    "run_control": {
     "read_only": false
    }
   },
   "source": [
    "### Answers"
   ]
  },
  {
   "cell_type": "markdown",
   "metadata": {
    "button": false,
    "new_sheet": false,
    "run_control": {
     "read_only": false
    }
   },
   "source": [
    "**5.1 Let's try regularizing our models via...** "
   ]
  },
  {
   "cell_type": "code",
   "execution_count": null,
   "metadata": {
    "button": false,
    "new_sheet": false,
    "run_control": {
     "read_only": false
    }
   },
   "outputs": [],
   "source": [
    "# your code here"
   ]
  },
  {
   "cell_type": "markdown",
   "metadata": {
    "button": false,
    "new_sheet": false,
    "run_control": {
     "read_only": false
    }
   },
   "source": [
    "**5.2 Find the best-scoring degree and regularization combination.**"
   ]
  },
  {
   "cell_type": "code",
   "execution_count": null,
   "metadata": {
    "button": false,
    "new_sheet": false,
    "run_control": {
     "read_only": false
    }
   },
   "outputs": [],
   "source": [
    "# your code here"
   ]
  },
  {
   "cell_type": "markdown",
   "metadata": {
    "button": false,
    "new_sheet": false,
    "run_control": {
     "read_only": false
    }
   },
   "source": [
    "**5.3 It's time to see how well our selected model...**\n"
   ]
  },
  {
   "cell_type": "code",
   "execution_count": null,
   "metadata": {
    "button": false,
    "new_sheet": false,
    "run_control": {
     "read_only": false
    }
   },
   "outputs": [],
   "source": [
    "# your code here"
   ]
  },
  {
   "cell_type": "markdown",
   "metadata": {
    "button": false,
    "new_sheet": false,
    "run_control": {
     "read_only": false
    }
   },
   "source": [
    "**5.4 Build a dataset with polynomial degree 1...**"
   ]
  },
  {
   "cell_type": "code",
   "execution_count": null,
   "metadata": {
    "button": false,
    "new_sheet": false,
    "run_control": {
     "read_only": false
    }
   },
   "outputs": [],
   "source": [
    "# your code here"
   ]
  },
  {
   "cell_type": "markdown",
   "metadata": {
    "button": false,
    "new_sheet": false,
    "run_control": {
     "read_only": false
    }
   },
   "source": [
    "**5.5 Plot histograms of the coefficients found...**"
   ]
  },
  {
   "cell_type": "code",
   "execution_count": null,
   "metadata": {
    "button": false,
    "new_sheet": false,
    "run_control": {
     "read_only": false
    }
   },
   "outputs": [],
   "source": [
    "# your code here"
   ]
  },
  {
   "cell_type": "markdown",
   "metadata": {
    "button": false,
    "new_sheet": false,
    "run_control": {
     "read_only": false
    }
   },
   "source": [
    "**5.6 The plots above show the overall distribution of... **"
   ]
  },
  {
   "cell_type": "code",
   "execution_count": null,
   "metadata": {
    "button": false,
    "new_sheet": false,
    "run_control": {
     "read_only": false
    }
   },
   "outputs": [],
   "source": [
    "# your code here"
   ]
  },
  {
   "cell_type": "markdown",
   "metadata": {
    "button": false,
    "new_sheet": false,
    "run_control": {
     "read_only": false
    }
   },
   "source": [
    "**5.7 What trends do you see...**"
   ]
  },
  {
   "cell_type": "code",
   "execution_count": null,
   "metadata": {
    "button": false,
    "collapsed": true,
    "new_sheet": false,
    "run_control": {
     "read_only": false
    }
   },
   "outputs": [],
   "source": [
    "# your code here"
   ]
  },
  {
   "cell_type": "markdown",
   "metadata": {
    "button": false,
    "new_sheet": false,
    "run_control": {
     "read_only": false
    }
   },
   "source": [
    "*your answer here*"
   ]
  },
  {
   "cell_type": "markdown",
   "metadata": {},
   "source": [
    "---"
   ]
  },
  {
   "cell_type": "markdown",
   "metadata": {
    "button": false,
    "new_sheet": false,
    "run_control": {
     "read_only": false
    }
   },
   "source": [
    "<div class='exercise'> <b> Question 6 [16 pts]: Reflection </b></div>\n",
    "These problems are open-ended, and you are not expected to write more than 2-3 sentences. We are interested in seeing that you have thought about these issues; you will be graded on how well you justify your conclusions here, not on what you conclude.\n",
    "\n",
    "**6.1** Reflect back on the `get_design_mats` function you built. In what way was writing this function useful in your analysis? What issues might you have encountered if you copy/pasted the model-building code instead of tying it together in a function? Does a `get_design_mat` function seem wise in general, or are there better options?\n",
    "\n",
    "**6.2** What are the costs and benefits of applying ridge/lasso regularization to an overfit OLS model, versus setting a specific degree of polynomial or forward selecting polynomial features for the model?\n",
    "\n",
    "**6.3** This pset posed a purely predictive goal: forecast ridership as accurately as possible. How important is interpretability in this context? Considering, e.g., your lasso and ridge models from Question 5, how would you react if the models predicted well, but the coefficient values didn't make sense once interpreted?\n",
    "\n",
    "**6.4** Reflect back on our original goal of helping BikeShare predict what demand will be like in the week ahead, and thus how many bikes they can bring in for maintenance. In your view, did we accomplish this goal? If yes, which model would you put into production and why? If not, which model came closest, what other analyses might you conduct, and how likely do you think they are to work?\n"
   ]
  },
  {
   "cell_type": "markdown",
   "metadata": {
    "button": false,
    "new_sheet": false,
    "run_control": {
     "read_only": false
    }
   },
   "source": [
    "### Answers"
   ]
  },
  {
   "cell_type": "markdown",
   "metadata": {},
   "source": [
    "**6.1 Reflect back on the get_design_mats function you built...**"
   ]
  },
  {
   "cell_type": "markdown",
   "metadata": {},
   "source": [
    "*your answer here*"
   ]
  },
  {
   "cell_type": "markdown",
   "metadata": {},
   "source": [
    "**6.2 What are the costs and benefits of applying ridge/lasso...**"
   ]
  },
  {
   "cell_type": "markdown",
   "metadata": {},
   "source": [
    "The main benefit of Ridge/Lasso regularization over polynomial degree selection is that one has a continuous set of choices in the former and a discrete one in the latter. With polynomial degree selection, the model may jump from overfitting the data with a high degree polynomial to underfitting it with the next lowest degree. As such, it is not always possible to find a model that nicely fits the data using this method. Regularization on the other hand, helps smooth out the line by fine-tuning the lambda value, thus controlling how much to penalize high coefficients.\n",
    "\n",
    "The cost of regularization is that both Ridge and LASSO have their respective downsides. For example, in cases where we have more predictors (p) than observations (n), LASSO can at most select n predictors. It is thus a poorer model when there are many informative predictors. Ridge has the opposite problem, where it does not do feature selection and thus maintains all predictors even if many are uninformative. In those cases, it is not the best-fit model for the data."
   ]
  },
  {
   "cell_type": "markdown",
   "metadata": {},
   "source": [
    "**6.3 This pset posed a purely predictive goal: forecast ridership...**"
   ]
  },
  {
   "cell_type": "markdown",
   "metadata": {},
   "source": [
    "In a purely predictive context where the problem space is well studied and/or the model doesn't have a real-life impact we may not care about interpretability. In cases like these, we may only care about the \"What\" ie. here: \"what is the ridership forecast?\". However, in most real-world settings we care about interpretability because we also want to understand the \"Why\". This is because there could be lots of valuable insights hiding behind observations that in our case could make the difference between BikeShare implementing useful vs detrimental updates to their service. Additionally, it is crucial information to have if something goes wrong after the model has been put into production. Whithout understanding how the predictions came to be, it is much harder to debug and solve errors down the road.\n",
    "\n",
    "Consequently, if in a real-life scenario the LASSO and Ridge models predicted well but the coefficients didn't make any sense when interpreted I would be concerned and not put it into production until they did."
   ]
  },
  {
   "cell_type": "markdown",
   "metadata": {},
   "source": [
    "**6.4 Reflect back on our original goal of helping BikeShare predict...**"
   ]
  },
  {
   "cell_type": "markdown",
   "metadata": {},
   "source": [
    "*your answer here*"
   ]
  },
  {
   "cell_type": "code",
   "execution_count": null,
   "metadata": {
    "button": false,
    "collapsed": true,
    "new_sheet": false,
    "run_control": {
     "read_only": false
    }
   },
   "outputs": [],
   "source": []
  }
 ],
 "metadata": {
  "kernelspec": {
   "display_name": "Python 3",
   "language": "python",
   "name": "python3"
  },
  "language_info": {
   "codemirror_mode": {
    "name": "ipython",
    "version": 3
   },
   "file_extension": ".py",
   "mimetype": "text/x-python",
   "name": "python",
   "nbconvert_exporter": "python",
   "pygments_lexer": "ipython3",
   "version": "3.7.3"
  }
 },
 "nbformat": 4,
 "nbformat_minor": 1
}
